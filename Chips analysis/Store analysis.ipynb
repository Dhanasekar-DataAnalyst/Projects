{
 "cells": [
  {
   "cell_type": "code",
   "execution_count": 1,
   "id": "5dafb76b-0314-4053-af5c-862db4e490f0",
   "metadata": {},
   "outputs": [],
   "source": [
    "import numpy as np\n",
    "import pandas as pd\n",
    "import matplotlib.pyplot as plt\n",
    "import seaborn as sns\n",
    "import math as m"
   ]
  },
  {
   "cell_type": "code",
   "execution_count": 2,
   "id": "e3a8db21-ef37-41fc-a61c-b8503d846214",
   "metadata": {},
   "outputs": [],
   "source": [
    "Data = pd.read_csv(r\"D:\\Project\\Quuantium\\Task 2\\QVI_data.csv\")"
   ]
  },
  {
   "cell_type": "code",
   "execution_count": 3,
   "id": "598fb885-9f69-47a3-8721-b0654dad317a",
   "metadata": {},
   "outputs": [
    {
     "data": {
      "text/html": [
       "<div>\n",
       "<style scoped>\n",
       "    .dataframe tbody tr th:only-of-type {\n",
       "        vertical-align: middle;\n",
       "    }\n",
       "\n",
       "    .dataframe tbody tr th {\n",
       "        vertical-align: top;\n",
       "    }\n",
       "\n",
       "    .dataframe thead th {\n",
       "        text-align: right;\n",
       "    }\n",
       "</style>\n",
       "<table border=\"1\" class=\"dataframe\">\n",
       "  <thead>\n",
       "    <tr style=\"text-align: right;\">\n",
       "      <th></th>\n",
       "      <th>LYLTY_CARD_NBR</th>\n",
       "      <th>DATE</th>\n",
       "      <th>STORE_NBR</th>\n",
       "      <th>TXN_ID</th>\n",
       "      <th>PROD_NBR</th>\n",
       "      <th>PROD_NAME</th>\n",
       "      <th>PROD_QTY</th>\n",
       "      <th>TOT_SALES</th>\n",
       "      <th>PACK_SIZE</th>\n",
       "      <th>BRAND</th>\n",
       "      <th>LIFESTAGE</th>\n",
       "      <th>PREMIUM_CUSTOMER</th>\n",
       "    </tr>\n",
       "  </thead>\n",
       "  <tbody>\n",
       "    <tr>\n",
       "      <th>0</th>\n",
       "      <td>1000</td>\n",
       "      <td>2018-10-17</td>\n",
       "      <td>1</td>\n",
       "      <td>1</td>\n",
       "      <td>5</td>\n",
       "      <td>Natural Chip        Compny SeaSalt175g</td>\n",
       "      <td>2</td>\n",
       "      <td>6.0</td>\n",
       "      <td>175</td>\n",
       "      <td>NATURAL</td>\n",
       "      <td>YOUNG SINGLES/COUPLES</td>\n",
       "      <td>Premium</td>\n",
       "    </tr>\n",
       "    <tr>\n",
       "      <th>1</th>\n",
       "      <td>1002</td>\n",
       "      <td>2018-09-16</td>\n",
       "      <td>1</td>\n",
       "      <td>2</td>\n",
       "      <td>58</td>\n",
       "      <td>Red Rock Deli Chikn&amp;Garlic Aioli 150g</td>\n",
       "      <td>1</td>\n",
       "      <td>2.7</td>\n",
       "      <td>150</td>\n",
       "      <td>RRD</td>\n",
       "      <td>YOUNG SINGLES/COUPLES</td>\n",
       "      <td>Mainstream</td>\n",
       "    </tr>\n",
       "    <tr>\n",
       "      <th>2</th>\n",
       "      <td>1003</td>\n",
       "      <td>2019-03-07</td>\n",
       "      <td>1</td>\n",
       "      <td>3</td>\n",
       "      <td>52</td>\n",
       "      <td>Grain Waves Sour    Cream&amp;Chives 210G</td>\n",
       "      <td>1</td>\n",
       "      <td>3.6</td>\n",
       "      <td>210</td>\n",
       "      <td>GRNWVES</td>\n",
       "      <td>YOUNG FAMILIES</td>\n",
       "      <td>Budget</td>\n",
       "    </tr>\n",
       "    <tr>\n",
       "      <th>3</th>\n",
       "      <td>1003</td>\n",
       "      <td>2019-03-08</td>\n",
       "      <td>1</td>\n",
       "      <td>4</td>\n",
       "      <td>106</td>\n",
       "      <td>Natural ChipCo      Hony Soy Chckn175g</td>\n",
       "      <td>1</td>\n",
       "      <td>3.0</td>\n",
       "      <td>175</td>\n",
       "      <td>NATURAL</td>\n",
       "      <td>YOUNG FAMILIES</td>\n",
       "      <td>Budget</td>\n",
       "    </tr>\n",
       "    <tr>\n",
       "      <th>4</th>\n",
       "      <td>1004</td>\n",
       "      <td>2018-11-02</td>\n",
       "      <td>1</td>\n",
       "      <td>5</td>\n",
       "      <td>96</td>\n",
       "      <td>WW Original Stacked Chips 160g</td>\n",
       "      <td>1</td>\n",
       "      <td>1.9</td>\n",
       "      <td>160</td>\n",
       "      <td>WOOLWORTHS</td>\n",
       "      <td>OLDER SINGLES/COUPLES</td>\n",
       "      <td>Mainstream</td>\n",
       "    </tr>\n",
       "    <tr>\n",
       "      <th>...</th>\n",
       "      <td>...</td>\n",
       "      <td>...</td>\n",
       "      <td>...</td>\n",
       "      <td>...</td>\n",
       "      <td>...</td>\n",
       "      <td>...</td>\n",
       "      <td>...</td>\n",
       "      <td>...</td>\n",
       "      <td>...</td>\n",
       "      <td>...</td>\n",
       "      <td>...</td>\n",
       "      <td>...</td>\n",
       "    </tr>\n",
       "    <tr>\n",
       "      <th>264829</th>\n",
       "      <td>2370701</td>\n",
       "      <td>2018-12-08</td>\n",
       "      <td>88</td>\n",
       "      <td>240378</td>\n",
       "      <td>24</td>\n",
       "      <td>Grain Waves         Sweet Chilli 210g</td>\n",
       "      <td>2</td>\n",
       "      <td>7.2</td>\n",
       "      <td>210</td>\n",
       "      <td>GRNWVES</td>\n",
       "      <td>YOUNG FAMILIES</td>\n",
       "      <td>Mainstream</td>\n",
       "    </tr>\n",
       "    <tr>\n",
       "      <th>264830</th>\n",
       "      <td>2370751</td>\n",
       "      <td>2018-10-01</td>\n",
       "      <td>88</td>\n",
       "      <td>240394</td>\n",
       "      <td>60</td>\n",
       "      <td>Kettle Tortilla ChpsFeta&amp;Garlic 150g</td>\n",
       "      <td>2</td>\n",
       "      <td>9.2</td>\n",
       "      <td>150</td>\n",
       "      <td>KETTLE</td>\n",
       "      <td>YOUNG FAMILIES</td>\n",
       "      <td>Premium</td>\n",
       "    </tr>\n",
       "    <tr>\n",
       "      <th>264831</th>\n",
       "      <td>2370961</td>\n",
       "      <td>2018-10-24</td>\n",
       "      <td>88</td>\n",
       "      <td>240480</td>\n",
       "      <td>70</td>\n",
       "      <td>Tyrrells Crisps     Lightly Salted 165g</td>\n",
       "      <td>2</td>\n",
       "      <td>8.4</td>\n",
       "      <td>165</td>\n",
       "      <td>TYRRELLS</td>\n",
       "      <td>OLDER FAMILIES</td>\n",
       "      <td>Budget</td>\n",
       "    </tr>\n",
       "    <tr>\n",
       "      <th>264832</th>\n",
       "      <td>2370961</td>\n",
       "      <td>2018-10-27</td>\n",
       "      <td>88</td>\n",
       "      <td>240481</td>\n",
       "      <td>65</td>\n",
       "      <td>Old El Paso Salsa   Dip Chnky Tom Ht300g</td>\n",
       "      <td>2</td>\n",
       "      <td>10.2</td>\n",
       "      <td>300</td>\n",
       "      <td>OLD</td>\n",
       "      <td>OLDER FAMILIES</td>\n",
       "      <td>Budget</td>\n",
       "    </tr>\n",
       "    <tr>\n",
       "      <th>264833</th>\n",
       "      <td>2373711</td>\n",
       "      <td>2018-12-14</td>\n",
       "      <td>88</td>\n",
       "      <td>241815</td>\n",
       "      <td>16</td>\n",
       "      <td>Smiths Crinkle Chips Salt &amp; Vinegar 330g</td>\n",
       "      <td>2</td>\n",
       "      <td>11.4</td>\n",
       "      <td>330</td>\n",
       "      <td>SMITHS</td>\n",
       "      <td>YOUNG SINGLES/COUPLES</td>\n",
       "      <td>Mainstream</td>\n",
       "    </tr>\n",
       "  </tbody>\n",
       "</table>\n",
       "<p>264834 rows × 12 columns</p>\n",
       "</div>"
      ],
      "text/plain": [
       "        LYLTY_CARD_NBR        DATE  STORE_NBR  TXN_ID  PROD_NBR  \\\n",
       "0                 1000  2018-10-17          1       1         5   \n",
       "1                 1002  2018-09-16          1       2        58   \n",
       "2                 1003  2019-03-07          1       3        52   \n",
       "3                 1003  2019-03-08          1       4       106   \n",
       "4                 1004  2018-11-02          1       5        96   \n",
       "...                ...         ...        ...     ...       ...   \n",
       "264829         2370701  2018-12-08         88  240378        24   \n",
       "264830         2370751  2018-10-01         88  240394        60   \n",
       "264831         2370961  2018-10-24         88  240480        70   \n",
       "264832         2370961  2018-10-27         88  240481        65   \n",
       "264833         2373711  2018-12-14         88  241815        16   \n",
       "\n",
       "                                       PROD_NAME  PROD_QTY  TOT_SALES  \\\n",
       "0         Natural Chip        Compny SeaSalt175g         2        6.0   \n",
       "1          Red Rock Deli Chikn&Garlic Aioli 150g         1        2.7   \n",
       "2          Grain Waves Sour    Cream&Chives 210G         1        3.6   \n",
       "3         Natural ChipCo      Hony Soy Chckn175g         1        3.0   \n",
       "4                 WW Original Stacked Chips 160g         1        1.9   \n",
       "...                                          ...       ...        ...   \n",
       "264829     Grain Waves         Sweet Chilli 210g         2        7.2   \n",
       "264830      Kettle Tortilla ChpsFeta&Garlic 150g         2        9.2   \n",
       "264831   Tyrrells Crisps     Lightly Salted 165g         2        8.4   \n",
       "264832  Old El Paso Salsa   Dip Chnky Tom Ht300g         2       10.2   \n",
       "264833  Smiths Crinkle Chips Salt & Vinegar 330g         2       11.4   \n",
       "\n",
       "        PACK_SIZE       BRAND              LIFESTAGE PREMIUM_CUSTOMER  \n",
       "0             175     NATURAL  YOUNG SINGLES/COUPLES          Premium  \n",
       "1             150         RRD  YOUNG SINGLES/COUPLES       Mainstream  \n",
       "2             210     GRNWVES         YOUNG FAMILIES           Budget  \n",
       "3             175     NATURAL         YOUNG FAMILIES           Budget  \n",
       "4             160  WOOLWORTHS  OLDER SINGLES/COUPLES       Mainstream  \n",
       "...           ...         ...                    ...              ...  \n",
       "264829        210     GRNWVES         YOUNG FAMILIES       Mainstream  \n",
       "264830        150      KETTLE         YOUNG FAMILIES          Premium  \n",
       "264831        165    TYRRELLS         OLDER FAMILIES           Budget  \n",
       "264832        300         OLD         OLDER FAMILIES           Budget  \n",
       "264833        330      SMITHS  YOUNG SINGLES/COUPLES       Mainstream  \n",
       "\n",
       "[264834 rows x 12 columns]"
      ]
     },
     "execution_count": 3,
     "metadata": {},
     "output_type": "execute_result"
    }
   ],
   "source": [
    "Data"
   ]
  },
  {
   "cell_type": "code",
   "execution_count": 4,
   "id": "00d0e976-4a15-4516-8428-1309097d3426",
   "metadata": {},
   "outputs": [],
   "source": [
    "Data['DATE'] = pd.to_datetime(Data['DATE'])\n",
    "start_date = '2019-02-01'\n",
    "end_date = '2019-04-30'\n",
    "\n",
    "Data3 = Data[(Data['DATE'] >= start_date) & (Data['DATE'] <= end_date)]\n",
    "\n",
    "Data4  =Data[(Data['DATE'] < start_date)] "
   ]
  },
  {
   "cell_type": "code",
   "execution_count": 5,
   "id": "9126fc5a-3185-4b1a-93e4-9db7e44b2e6a",
   "metadata": {},
   "outputs": [
    {
     "name": "stdin",
     "output_type": "stream",
     "text": [
      "Enter value:   77,88,86\n"
     ]
    },
    {
     "name": "stdout",
     "output_type": "stream",
     "text": [
      "Total Sales for selected stores: STORE_NBR\n",
      "88    4286.8\n",
      "86    2788.2\n",
      "77     777.0\n",
      "Name: TOT_SALES, dtype: float64\n"
     ]
    }
   ],
   "source": [
    "def str_input():\n",
    "    return input(\"Enter value:  \").split(',')\n",
    "      \n",
    "str_input = list(map(int,str_input()))\n",
    "Data2 = Data3[Data3['STORE_NBR'].isin(str_input)][['STORE_NBR','TOT_SALES']].groupby('STORE_NBR')['TOT_SALES'].sum().sort_values(ascending = False)\n",
    "print(\"Total Sales for selected stores:\", Data2)"
   ]
  },
  {
   "cell_type": "code",
   "execution_count": 7,
   "id": "8d4d0140-5cf8-438a-aa3f-8db6677f6fa0",
   "metadata": {},
   "outputs": [
    {
     "name": "stdin",
     "output_type": "stream",
     "text": [
      "Enter value:   77,86,88\n"
     ]
    },
    {
     "name": "stdout",
     "output_type": "stream",
     "text": [
      "Total Sales for selected stores: STORE_NBR\n",
      "88    16333.25\n",
      "86    10635.35\n",
      "77     3040.00\n",
      "Name: TOT_SALES, dtype: float64\n"
     ]
    }
   ],
   "source": [
    "def str_input():\n",
    "    return input(\"Enter value:  \").split(',')\n",
    "      \n",
    "str_input = list(map(int,str_input()))\n",
    "Data6 = Data[Data['STORE_NBR'].isin(str_input)][['STORE_NBR','TOT_SALES']].groupby('STORE_NBR')['TOT_SALES'].sum().sort_values(ascending = False)\n",
    "print(\"Total Sales for selected stores:\", Data6)"
   ]
  },
  {
   "cell_type": "code",
   "execution_count": 120,
   "id": "393b1871-52e3-4c9e-93c8-1e5e03dff4f3",
   "metadata": {},
   "outputs": [
    {
     "name": "stdin",
     "output_type": "stream",
     "text": [
      "Enter value:   77,86,88\n"
     ]
    },
    {
     "name": "stdout",
     "output_type": "stream",
     "text": [
      "Total Sales for selected stores: STORE_NBR\n",
      "88    972\n",
      "86    815\n",
      "77    234\n",
      "Name: PROD_QTY, dtype: int64\n"
     ]
    }
   ],
   "source": [
    "def str_input():\n",
    "    return input(\"Enter value:  \").split(',')\n",
    "      \n",
    "str_input = list(map(int,str_input()))\n",
    "\n",
    "Data7 = Data3[Data3['STORE_NBR'].isin(str_input)][['STORE_NBR','PROD_QTY']].groupby('STORE_NBR')['PROD_QTY'].sum().sort_values(ascending = False)\n",
    "print(\"Total Sales for selected stores:\", Data7)"
   ]
  },
  {
   "cell_type": "code",
   "execution_count": 190,
   "id": "e50dd03d-5e86-43b1-a826-e42869614d63",
   "metadata": {},
   "outputs": [
    {
     "name": "stdout",
     "output_type": "stream",
     "text": [
      "Total Sales for selected stores: STORE_NBR\n",
      "88    3718\n",
      "86    3066\n",
      "77     872\n",
      "Name: PROD_QTY, dtype: int64\n"
     ]
    }
   ],
   "source": [
    "Data8 = Data[Data['STORE_NBR'].isin(str_input)][['STORE_NBR','PROD_QTY']].groupby('STORE_NBR')['PROD_QTY'].sum().sort_values(ascending = False)\n",
    "print(\"Total Sales for selected stores:\", Data8)"
   ]
  },
  {
   "cell_type": "code",
   "execution_count": 8,
   "id": "0f7ebc15-3dc8-420b-9ba2-23ab4f5476cb",
   "metadata": {},
   "outputs": [
    {
     "data": {
      "text/plain": [
       "<Axes: xlabel='STORE_NBR'>"
      ]
     },
     "execution_count": 8,
     "metadata": {},
     "output_type": "execute_result"
    },
    {
     "data": {
      "image/png": "[encoded data removed]",
      "text/plain": [
       "<Figure size 640x480 with 1 Axes>"
      ]
     },
     "metadata": {},
     "output_type": "display_data"
    }
   ],
   "source": [
    "Data2.plot(kind = 'bar')"
   ]
  },
  {
   "cell_type": "code",
   "execution_count": 9,
   "id": "6875c4d9-b3aa-4b86-b39d-9df2094eb6b8",
   "metadata": {},
   "outputs": [
    {
     "data": {
      "image/png": "[encoded data removed]",
      "text/plain": [
       "<Figure size 1200x700 with 2 Axes>"
      ]
     },
     "metadata": {},
     "output_type": "display_data"
    }
   ],
   "source": [
    "Datas = Data4[['LYLTY_CARD_NBR','STORE_NBR','PROD_QTY','TOT_SALES']]\n",
    "Datass = Datas.corr()\n",
    "\n",
    "plt.figure(figsize = (12,7))\n",
    "sns.heatmap(data = Datass ,annot=True, cmap='coolwarm')\n",
    "plt.show()"
   ]
  },
  {
   "cell_type": "code",
   "execution_count": null,
   "id": "c2b4ed63-3fc4-49c6-84f5-a4a3dc090776",
   "metadata": {},
   "outputs": [],
   "source": []
  },
  {
   "cell_type": "code",
   "execution_count": 10,
   "id": "4cedf34d-df25-47f3-ba3d-39dc237263e2",
   "metadata": {},
   "outputs": [
    {
     "name": "stdin",
     "output_type": "stream",
     "text": [
      "Enter value:   77\n"
     ]
    },
    {
     "name": "stdout",
     "output_type": "stream",
     "text": [
      "Total Sales for selected stores: STORE_NBR\n",
      "77    777.0\n",
      "Name: TOT_SALES, dtype: float64\n"
     ]
    }
   ],
   "source": [
    "def str_input():\n",
    "    return input(\"Enter value:  \").split(',')\n",
    "      \n",
    "str_input = list(map(int,str_input()))\n",
    "Data10 = Data3[Data3['STORE_NBR'].isin(str_input)][['STORE_NBR','TOT_SALES']].groupby('STORE_NBR')['TOT_SALES'].sum().sort_values(ascending = False)\n",
    "print(\"Total Sales for selected stores:\", Data10)"
   ]
  },
  {
   "cell_type": "code",
   "execution_count": 11,
   "id": "99597a57-5475-45ad-b272-10ca5026ac8a",
   "metadata": {},
   "outputs": [
    {
     "data": {
      "text/plain": [
       "STORE_NBR\n",
       "88    16333.25\n",
       "81    14361.95\n",
       "79    11831.20\n",
       "80    11756.90\n",
       "86    10635.35\n",
       "83     9924.90\n",
       "78     9381.25\n",
       "84     5396.30\n",
       "82     4103.50\n",
       "87     3991.60\n",
       "77     3040.00\n",
       "85       13.90\n",
       "76        6.00\n",
       "Name: TOT_SALES, dtype: float64"
      ]
     },
     "execution_count": 11,
     "metadata": {},
     "output_type": "execute_result"
    }
   ],
   "source": [
    "Data11 = Data.groupby('STORE_NBR')['TOT_SALES'].sum()\n",
    "Data11.iloc[75:88].sort_values(ascending = False)"
   ]
  },
  {
   "cell_type": "code",
   "execution_count": 12,
   "id": "9aace33a-4703-4010-a2db-d7266777b22d",
   "metadata": {},
   "outputs": [
    {
     "data": {
      "text/plain": [
       "STORE_NBR\n",
       "41     2570.20\n",
       "268    2601.05\n",
       "195    2608.25\n",
       "163    2635.70\n",
       "6      2684.90\n",
       "53     2715.05\n",
       "214    2720.40\n",
       "176    2752.90\n",
       "233    2826.90\n",
       "255    2835.30\n",
       "185    2868.60\n",
       "187    2909.70\n",
       "205    2966.80\n",
       "220    3008.20\n",
       "50     3009.80\n",
       "46     3023.45\n",
       "141    3025.40\n",
       "77     3040.00\n",
       "Name: TOT_SALES, dtype: float64"
      ]
     },
     "execution_count": 12,
     "metadata": {},
     "output_type": "execute_result"
    }
   ],
   "source": [
    "Data12 = Data.groupby('STORE_NBR')['TOT_SALES'].sum().sort_values(ascending = True)\n",
    "Data12.iloc[57:75]"
   ]
  },
  {
   "cell_type": "code",
   "execution_count": 13,
   "id": "17a64d9c-09d1-4a0c-aafb-ccc5c2d5be44",
   "metadata": {},
   "outputs": [],
   "source": [
    "Data['DATE'] = pd.to_datetime(Data['DATE'])\n",
    "Data['Month_Year'] = Data['DATE'].dt.strftime(\"%m/%Y\")\n"
   ]
  },
  {
   "cell_type": "code",
   "execution_count": 14,
   "id": "223d7e3d-410c-439d-8cde-77a8bb02ea05",
   "metadata": {},
   "outputs": [
    {
     "ename": "NameError",
     "evalue": "name 'Sorted' is not defined",
     "output_type": "error",
     "traceback": [
      "\u001b[31m---------------------------------------------------------------------------\u001b[39m",
      "\u001b[31mNameError\u001b[39m                                 Traceback (most recent call last)",
      "\u001b[36mCell\u001b[39m\u001b[36m \u001b[39m\u001b[32mIn[14]\u001b[39m\u001b[32m, line 1\u001b[39m\n\u001b[32m----> \u001b[39m\u001b[32m1\u001b[39m filtered_data = Data[Data[\u001b[33m'\u001b[39m\u001b[33mSTORE_NBR\u001b[39m\u001b[33m'\u001b[39m].isin(\u001b[43mSorted\u001b[49m)]\n\u001b[32m      2\u001b[39m Data13 = filtered_data.groupby([\u001b[33m'\u001b[39m\u001b[33mSTORE_NBR\u001b[39m\u001b[33m'\u001b[39m,\u001b[33m'\u001b[39m\u001b[33mMonth_Year\u001b[39m\u001b[33m'\u001b[39m])[\u001b[33m'\u001b[39m\u001b[33mTOT_SALES\u001b[39m\u001b[33m'\u001b[39m].sum()\n\u001b[32m      4\u001b[39m Data13\n",
      "\u001b[31mNameError\u001b[39m: name 'Sorted' is not defined"
     ]
    }
   ],
   "source": [
    "filtered_data = Data[Data['STORE_NBR'].isin(Sorted)]\n",
    "Data13 = filtered_data.groupby(['STORE_NBR','Month_Year'])['TOT_SALES'].sum()\n",
    "\n",
    "Data13"
   ]
  },
  {
   "cell_type": "code",
   "execution_count": null,
   "id": "9993c56a-5581-407f-82f0-ff4cfdfe1cdf",
   "metadata": {},
   "outputs": [],
   "source": [
    "\n",
    "\n",
    "Sorted = [41,268,195,163,6,53,214,176,233,255,185,187,205,220,50,46,141,77]\n",
    "Data15 = pd.DataFrame({\"values\": Data13[Sorted]})\n",
    "Data15\n"
   ]
  },
  {
   "cell_type": "code",
   "execution_count": null,
   "id": "f06ab1c9-de82-41cb-9a9c-01468d1ca235",
   "metadata": {},
   "outputs": [],
   "source": [
    "piv = Data15.pivot_table(index = \"Month_Year\", columns = \"STORE_NBR\", values = \"values\")\n",
    "piv"
   ]
  },
  {
   "cell_type": "code",
   "execution_count": null,
   "id": "e37fcd3b-c4ab-49a2-9880-ef3f8e73f584",
   "metadata": {},
   "outputs": [],
   "source": [
    "piv.corr(method = \"pearson\")\n"
   ]
  },
  {
   "cell_type": "code",
   "execution_count": null,
   "id": "ae5aa023-135e-4d9b-bde9-03647f2232ef",
   "metadata": {},
   "outputs": [],
   "source": [
    "plt.figure(figsize = (12,7))\n",
    "\n",
    "Known = piv[[41,77]]\n",
    "Known.plot()\n",
    "plt.show()"
   ]
  },
  {
   "cell_type": "code",
   "execution_count": 15,
   "id": "495e64f3-8db0-462d-bd01-c02d3e7efa79",
   "metadata": {},
   "outputs": [
    {
     "data": {
      "text/html": [
       "<div>\n",
       "<style scoped>\n",
       "    .dataframe tbody tr th:only-of-type {\n",
       "        vertical-align: middle;\n",
       "    }\n",
       "\n",
       "    .dataframe tbody tr th {\n",
       "        vertical-align: top;\n",
       "    }\n",
       "\n",
       "    .dataframe thead th {\n",
       "        text-align: right;\n",
       "    }\n",
       "</style>\n",
       "<table border=\"1\" class=\"dataframe\">\n",
       "  <thead>\n",
       "    <tr style=\"text-align: right;\">\n",
       "      <th></th>\n",
       "      <th>LYLTY_CARD_NBR</th>\n",
       "      <th>DATE</th>\n",
       "      <th>STORE_NBR</th>\n",
       "      <th>TXN_ID</th>\n",
       "      <th>PROD_NBR</th>\n",
       "      <th>PROD_NAME</th>\n",
       "      <th>PROD_QTY</th>\n",
       "      <th>TOT_SALES</th>\n",
       "      <th>PACK_SIZE</th>\n",
       "      <th>BRAND</th>\n",
       "      <th>LIFESTAGE</th>\n",
       "      <th>PREMIUM_CUSTOMER</th>\n",
       "      <th>Month_Year</th>\n",
       "    </tr>\n",
       "  </thead>\n",
       "  <tbody>\n",
       "    <tr>\n",
       "      <th>0</th>\n",
       "      <td>1000</td>\n",
       "      <td>2018-10-17</td>\n",
       "      <td>1</td>\n",
       "      <td>1</td>\n",
       "      <td>5</td>\n",
       "      <td>Natural Chip        Compny SeaSalt175g</td>\n",
       "      <td>2</td>\n",
       "      <td>6.0</td>\n",
       "      <td>175</td>\n",
       "      <td>NATURAL</td>\n",
       "      <td>YOUNG SINGLES/COUPLES</td>\n",
       "      <td>Premium</td>\n",
       "      <td>10/2018</td>\n",
       "    </tr>\n",
       "    <tr>\n",
       "      <th>1</th>\n",
       "      <td>1002</td>\n",
       "      <td>2018-09-16</td>\n",
       "      <td>1</td>\n",
       "      <td>2</td>\n",
       "      <td>58</td>\n",
       "      <td>Red Rock Deli Chikn&amp;Garlic Aioli 150g</td>\n",
       "      <td>1</td>\n",
       "      <td>2.7</td>\n",
       "      <td>150</td>\n",
       "      <td>RRD</td>\n",
       "      <td>YOUNG SINGLES/COUPLES</td>\n",
       "      <td>Mainstream</td>\n",
       "      <td>09/2018</td>\n",
       "    </tr>\n",
       "    <tr>\n",
       "      <th>2</th>\n",
       "      <td>1003</td>\n",
       "      <td>2019-03-07</td>\n",
       "      <td>1</td>\n",
       "      <td>3</td>\n",
       "      <td>52</td>\n",
       "      <td>Grain Waves Sour    Cream&amp;Chives 210G</td>\n",
       "      <td>1</td>\n",
       "      <td>3.6</td>\n",
       "      <td>210</td>\n",
       "      <td>GRNWVES</td>\n",
       "      <td>YOUNG FAMILIES</td>\n",
       "      <td>Budget</td>\n",
       "      <td>03/2019</td>\n",
       "    </tr>\n",
       "    <tr>\n",
       "      <th>3</th>\n",
       "      <td>1003</td>\n",
       "      <td>2019-03-08</td>\n",
       "      <td>1</td>\n",
       "      <td>4</td>\n",
       "      <td>106</td>\n",
       "      <td>Natural ChipCo      Hony Soy Chckn175g</td>\n",
       "      <td>1</td>\n",
       "      <td>3.0</td>\n",
       "      <td>175</td>\n",
       "      <td>NATURAL</td>\n",
       "      <td>YOUNG FAMILIES</td>\n",
       "      <td>Budget</td>\n",
       "      <td>03/2019</td>\n",
       "    </tr>\n",
       "    <tr>\n",
       "      <th>4</th>\n",
       "      <td>1004</td>\n",
       "      <td>2018-11-02</td>\n",
       "      <td>1</td>\n",
       "      <td>5</td>\n",
       "      <td>96</td>\n",
       "      <td>WW Original Stacked Chips 160g</td>\n",
       "      <td>1</td>\n",
       "      <td>1.9</td>\n",
       "      <td>160</td>\n",
       "      <td>WOOLWORTHS</td>\n",
       "      <td>OLDER SINGLES/COUPLES</td>\n",
       "      <td>Mainstream</td>\n",
       "      <td>11/2018</td>\n",
       "    </tr>\n",
       "    <tr>\n",
       "      <th>...</th>\n",
       "      <td>...</td>\n",
       "      <td>...</td>\n",
       "      <td>...</td>\n",
       "      <td>...</td>\n",
       "      <td>...</td>\n",
       "      <td>...</td>\n",
       "      <td>...</td>\n",
       "      <td>...</td>\n",
       "      <td>...</td>\n",
       "      <td>...</td>\n",
       "      <td>...</td>\n",
       "      <td>...</td>\n",
       "      <td>...</td>\n",
       "    </tr>\n",
       "    <tr>\n",
       "      <th>264829</th>\n",
       "      <td>2370701</td>\n",
       "      <td>2018-12-08</td>\n",
       "      <td>88</td>\n",
       "      <td>240378</td>\n",
       "      <td>24</td>\n",
       "      <td>Grain Waves         Sweet Chilli 210g</td>\n",
       "      <td>2</td>\n",
       "      <td>7.2</td>\n",
       "      <td>210</td>\n",
       "      <td>GRNWVES</td>\n",
       "      <td>YOUNG FAMILIES</td>\n",
       "      <td>Mainstream</td>\n",
       "      <td>12/2018</td>\n",
       "    </tr>\n",
       "    <tr>\n",
       "      <th>264830</th>\n",
       "      <td>2370751</td>\n",
       "      <td>2018-10-01</td>\n",
       "      <td>88</td>\n",
       "      <td>240394</td>\n",
       "      <td>60</td>\n",
       "      <td>Kettle Tortilla ChpsFeta&amp;Garlic 150g</td>\n",
       "      <td>2</td>\n",
       "      <td>9.2</td>\n",
       "      <td>150</td>\n",
       "      <td>KETTLE</td>\n",
       "      <td>YOUNG FAMILIES</td>\n",
       "      <td>Premium</td>\n",
       "      <td>10/2018</td>\n",
       "    </tr>\n",
       "    <tr>\n",
       "      <th>264831</th>\n",
       "      <td>2370961</td>\n",
       "      <td>2018-10-24</td>\n",
       "      <td>88</td>\n",
       "      <td>240480</td>\n",
       "      <td>70</td>\n",
       "      <td>Tyrrells Crisps     Lightly Salted 165g</td>\n",
       "      <td>2</td>\n",
       "      <td>8.4</td>\n",
       "      <td>165</td>\n",
       "      <td>TYRRELLS</td>\n",
       "      <td>OLDER FAMILIES</td>\n",
       "      <td>Budget</td>\n",
       "      <td>10/2018</td>\n",
       "    </tr>\n",
       "    <tr>\n",
       "      <th>264832</th>\n",
       "      <td>2370961</td>\n",
       "      <td>2018-10-27</td>\n",
       "      <td>88</td>\n",
       "      <td>240481</td>\n",
       "      <td>65</td>\n",
       "      <td>Old El Paso Salsa   Dip Chnky Tom Ht300g</td>\n",
       "      <td>2</td>\n",
       "      <td>10.2</td>\n",
       "      <td>300</td>\n",
       "      <td>OLD</td>\n",
       "      <td>OLDER FAMILIES</td>\n",
       "      <td>Budget</td>\n",
       "      <td>10/2018</td>\n",
       "    </tr>\n",
       "    <tr>\n",
       "      <th>264833</th>\n",
       "      <td>2373711</td>\n",
       "      <td>2018-12-14</td>\n",
       "      <td>88</td>\n",
       "      <td>241815</td>\n",
       "      <td>16</td>\n",
       "      <td>Smiths Crinkle Chips Salt &amp; Vinegar 330g</td>\n",
       "      <td>2</td>\n",
       "      <td>11.4</td>\n",
       "      <td>330</td>\n",
       "      <td>SMITHS</td>\n",
       "      <td>YOUNG SINGLES/COUPLES</td>\n",
       "      <td>Mainstream</td>\n",
       "      <td>12/2018</td>\n",
       "    </tr>\n",
       "  </tbody>\n",
       "</table>\n",
       "<p>264834 rows × 13 columns</p>\n",
       "</div>"
      ],
      "text/plain": [
       "        LYLTY_CARD_NBR       DATE  STORE_NBR  TXN_ID  PROD_NBR  \\\n",
       "0                 1000 2018-10-17          1       1         5   \n",
       "1                 1002 2018-09-16          1       2        58   \n",
       "2                 1003 2019-03-07          1       3        52   \n",
       "3                 1003 2019-03-08          1       4       106   \n",
       "4                 1004 2018-11-02          1       5        96   \n",
       "...                ...        ...        ...     ...       ...   \n",
       "264829         2370701 2018-12-08         88  240378        24   \n",
       "264830         2370751 2018-10-01         88  240394        60   \n",
       "264831         2370961 2018-10-24         88  240480        70   \n",
       "264832         2370961 2018-10-27         88  240481        65   \n",
       "264833         2373711 2018-12-14         88  241815        16   \n",
       "\n",
       "                                       PROD_NAME  PROD_QTY  TOT_SALES  \\\n",
       "0         Natural Chip        Compny SeaSalt175g         2        6.0   \n",
       "1          Red Rock Deli Chikn&Garlic Aioli 150g         1        2.7   \n",
       "2          Grain Waves Sour    Cream&Chives 210G         1        3.6   \n",
       "3         Natural ChipCo      Hony Soy Chckn175g         1        3.0   \n",
       "4                 WW Original Stacked Chips 160g         1        1.9   \n",
       "...                                          ...       ...        ...   \n",
       "264829     Grain Waves         Sweet Chilli 210g         2        7.2   \n",
       "264830      Kettle Tortilla ChpsFeta&Garlic 150g         2        9.2   \n",
       "264831   Tyrrells Crisps     Lightly Salted 165g         2        8.4   \n",
       "264832  Old El Paso Salsa   Dip Chnky Tom Ht300g         2       10.2   \n",
       "264833  Smiths Crinkle Chips Salt & Vinegar 330g         2       11.4   \n",
       "\n",
       "        PACK_SIZE       BRAND              LIFESTAGE PREMIUM_CUSTOMER  \\\n",
       "0             175     NATURAL  YOUNG SINGLES/COUPLES          Premium   \n",
       "1             150         RRD  YOUNG SINGLES/COUPLES       Mainstream   \n",
       "2             210     GRNWVES         YOUNG FAMILIES           Budget   \n",
       "3             175     NATURAL         YOUNG FAMILIES           Budget   \n",
       "4             160  WOOLWORTHS  OLDER SINGLES/COUPLES       Mainstream   \n",
       "...           ...         ...                    ...              ...   \n",
       "264829        210     GRNWVES         YOUNG FAMILIES       Mainstream   \n",
       "264830        150      KETTLE         YOUNG FAMILIES          Premium   \n",
       "264831        165    TYRRELLS         OLDER FAMILIES           Budget   \n",
       "264832        300         OLD         OLDER FAMILIES           Budget   \n",
       "264833        330      SMITHS  YOUNG SINGLES/COUPLES       Mainstream   \n",
       "\n",
       "       Month_Year  \n",
       "0         10/2018  \n",
       "1         09/2018  \n",
       "2         03/2019  \n",
       "3         03/2019  \n",
       "4         11/2018  \n",
       "...           ...  \n",
       "264829    12/2018  \n",
       "264830    10/2018  \n",
       "264831    10/2018  \n",
       "264832    10/2018  \n",
       "264833    12/2018  \n",
       "\n",
       "[264834 rows x 13 columns]"
      ]
     },
     "execution_count": 15,
     "metadata": {},
     "output_type": "execute_result"
    }
   ],
   "source": [
    "Data"
   ]
  },
  {
   "cell_type": "code",
   "execution_count": 16,
   "id": "3ea5642a-0ae3-4578-8958-730f3b662bc6",
   "metadata": {},
   "outputs": [
    {
     "data": {
      "text/plain": [
       "STORE_NBR  Month_Year\n",
       "117        12/2018       27.9\n",
       "263        08/2018       28.0\n",
       "158        07/2018       28.0\n",
       "52         07/2018       28.3\n",
       "258        04/2019       28.4\n",
       "198        05/2019       28.5\n",
       "159        02/2019       28.6\n",
       "           06/2019       28.6\n",
       "161        04/2019       28.8\n",
       "258        12/2018       29.0\n",
       "204        01/2019       29.0\n",
       "140        10/2018       29.5\n",
       "146        05/2019       29.6\n",
       "132        01/2019       29.6\n",
       "192        04/2019       29.7\n",
       "244        04/2019       29.8\n",
       "158        08/2018       29.8\n",
       "177        06/2019       30.2\n",
       "140        12/2018       30.3\n",
       "158        10/2018       30.3\n",
       "42         05/2019       30.3\n",
       "99         03/2019       30.3\n",
       "192        09/2018       30.4\n",
       "Name: TOT_SALES, dtype: float64"
      ]
     },
     "execution_count": 16,
     "metadata": {},
     "output_type": "execute_result"
    }
   ],
   "source": [
    "Data16 = Data.groupby(['STORE_NBR','Month_Year'])['TOT_SALES'].sum().sort_values(ascending = True)\n",
    "Data16.iloc[178:201]"
   ]
  },
  {
   "cell_type": "code",
   "execution_count": 17,
   "id": "41e494dc-1506-47ed-9d6f-416dd5ac2940",
   "metadata": {},
   "outputs": [],
   "source": [
    "Sort = [109, 191, 196, 229, 97, 102, 105, 232, 57, 172, 113, 225, 62, 236, 227, 155, 86, 247, 13, 164, 106, 55, 138]\n",
    "Data16 = pd.DataFrame({\"values\": Data16[Sort]})\n",
    "\n"
   ]
  },
  {
   "cell_type": "code",
   "execution_count": 18,
   "id": "cdb19960-6928-46ee-9068-a5cbcb3b67e8",
   "metadata": {},
   "outputs": [
    {
     "data": {
      "text/html": [
       "<div>\n",
       "<style scoped>\n",
       "    .dataframe tbody tr th:only-of-type {\n",
       "        vertical-align: middle;\n",
       "    }\n",
       "\n",
       "    .dataframe tbody tr th {\n",
       "        vertical-align: top;\n",
       "    }\n",
       "\n",
       "    .dataframe thead th {\n",
       "        text-align: right;\n",
       "    }\n",
       "</style>\n",
       "<table border=\"1\" class=\"dataframe\">\n",
       "  <thead>\n",
       "    <tr style=\"text-align: right;\">\n",
       "      <th>STORE_NBR</th>\n",
       "      <th>13</th>\n",
       "      <th>55</th>\n",
       "      <th>57</th>\n",
       "      <th>62</th>\n",
       "      <th>86</th>\n",
       "      <th>97</th>\n",
       "      <th>102</th>\n",
       "      <th>105</th>\n",
       "      <th>106</th>\n",
       "      <th>109</th>\n",
       "      <th>...</th>\n",
       "      <th>164</th>\n",
       "      <th>172</th>\n",
       "      <th>191</th>\n",
       "      <th>196</th>\n",
       "      <th>225</th>\n",
       "      <th>227</th>\n",
       "      <th>229</th>\n",
       "      <th>232</th>\n",
       "      <th>236</th>\n",
       "      <th>247</th>\n",
       "    </tr>\n",
       "    <tr>\n",
       "      <th>STORE_NBR</th>\n",
       "      <th></th>\n",
       "      <th></th>\n",
       "      <th></th>\n",
       "      <th></th>\n",
       "      <th></th>\n",
       "      <th></th>\n",
       "      <th></th>\n",
       "      <th></th>\n",
       "      <th></th>\n",
       "      <th></th>\n",
       "      <th></th>\n",
       "      <th></th>\n",
       "      <th></th>\n",
       "      <th></th>\n",
       "      <th></th>\n",
       "      <th></th>\n",
       "      <th></th>\n",
       "      <th></th>\n",
       "      <th></th>\n",
       "      <th></th>\n",
       "      <th></th>\n",
       "    </tr>\n",
       "  </thead>\n",
       "  <tbody>\n",
       "    <tr>\n",
       "      <th>13</th>\n",
       "      <td>1.000000</td>\n",
       "      <td>-0.125341</td>\n",
       "      <td>-0.291218</td>\n",
       "      <td>0.365314</td>\n",
       "      <td>0.457947</td>\n",
       "      <td>-0.373037</td>\n",
       "      <td>-0.377415</td>\n",
       "      <td>-0.059766</td>\n",
       "      <td>0.049336</td>\n",
       "      <td>0.324289</td>\n",
       "      <td>...</td>\n",
       "      <td>0.357477</td>\n",
       "      <td>-0.091999</td>\n",
       "      <td>0.733656</td>\n",
       "      <td>0.166098</td>\n",
       "      <td>0.043419</td>\n",
       "      <td>0.289917</td>\n",
       "      <td>0.508201</td>\n",
       "      <td>-0.084443</td>\n",
       "      <td>-0.597718</td>\n",
       "      <td>0.167139</td>\n",
       "    </tr>\n",
       "    <tr>\n",
       "      <th>55</th>\n",
       "      <td>-0.125341</td>\n",
       "      <td>1.000000</td>\n",
       "      <td>-0.039301</td>\n",
       "      <td>0.181823</td>\n",
       "      <td>0.043906</td>\n",
       "      <td>0.495256</td>\n",
       "      <td>0.418809</td>\n",
       "      <td>0.124132</td>\n",
       "      <td>0.181864</td>\n",
       "      <td>0.326968</td>\n",
       "      <td>...</td>\n",
       "      <td>0.060884</td>\n",
       "      <td>0.250338</td>\n",
       "      <td>0.018181</td>\n",
       "      <td>0.101949</td>\n",
       "      <td>0.338013</td>\n",
       "      <td>0.354941</td>\n",
       "      <td>0.234072</td>\n",
       "      <td>-0.320462</td>\n",
       "      <td>-0.206578</td>\n",
       "      <td>0.096625</td>\n",
       "    </tr>\n",
       "    <tr>\n",
       "      <th>57</th>\n",
       "      <td>-0.291218</td>\n",
       "      <td>-0.039301</td>\n",
       "      <td>1.000000</td>\n",
       "      <td>-0.428165</td>\n",
       "      <td>-0.402687</td>\n",
       "      <td>0.221201</td>\n",
       "      <td>-0.139586</td>\n",
       "      <td>0.301428</td>\n",
       "      <td>-0.658612</td>\n",
       "      <td>-0.124668</td>\n",
       "      <td>...</td>\n",
       "      <td>0.060840</td>\n",
       "      <td>0.665384</td>\n",
       "      <td>0.081015</td>\n",
       "      <td>-0.113210</td>\n",
       "      <td>-0.005863</td>\n",
       "      <td>0.106827</td>\n",
       "      <td>-0.335684</td>\n",
       "      <td>-0.100878</td>\n",
       "      <td>0.237461</td>\n",
       "      <td>0.237256</td>\n",
       "    </tr>\n",
       "    <tr>\n",
       "      <th>62</th>\n",
       "      <td>0.365314</td>\n",
       "      <td>0.181823</td>\n",
       "      <td>-0.428165</td>\n",
       "      <td>1.000000</td>\n",
       "      <td>0.276452</td>\n",
       "      <td>-0.184301</td>\n",
       "      <td>-0.206387</td>\n",
       "      <td>0.113294</td>\n",
       "      <td>0.634354</td>\n",
       "      <td>0.426023</td>\n",
       "      <td>...</td>\n",
       "      <td>-0.006044</td>\n",
       "      <td>-0.100249</td>\n",
       "      <td>0.227897</td>\n",
       "      <td>0.049385</td>\n",
       "      <td>0.005783</td>\n",
       "      <td>-0.028706</td>\n",
       "      <td>0.426077</td>\n",
       "      <td>0.461276</td>\n",
       "      <td>-0.334550</td>\n",
       "      <td>-0.295701</td>\n",
       "    </tr>\n",
       "    <tr>\n",
       "      <th>86</th>\n",
       "      <td>0.457947</td>\n",
       "      <td>0.043906</td>\n",
       "      <td>-0.402687</td>\n",
       "      <td>0.276452</td>\n",
       "      <td>1.000000</td>\n",
       "      <td>-0.015617</td>\n",
       "      <td>-0.226422</td>\n",
       "      <td>-0.202451</td>\n",
       "      <td>0.510548</td>\n",
       "      <td>0.643075</td>\n",
       "      <td>...</td>\n",
       "      <td>-0.117970</td>\n",
       "      <td>-0.156398</td>\n",
       "      <td>0.043345</td>\n",
       "      <td>0.081832</td>\n",
       "      <td>-0.109479</td>\n",
       "      <td>0.393785</td>\n",
       "      <td>0.596886</td>\n",
       "      <td>0.327006</td>\n",
       "      <td>-0.164982</td>\n",
       "      <td>0.250601</td>\n",
       "    </tr>\n",
       "    <tr>\n",
       "      <th>97</th>\n",
       "      <td>-0.373037</td>\n",
       "      <td>0.495256</td>\n",
       "      <td>0.221201</td>\n",
       "      <td>-0.184301</td>\n",
       "      <td>-0.015617</td>\n",
       "      <td>1.000000</td>\n",
       "      <td>0.578719</td>\n",
       "      <td>0.334039</td>\n",
       "      <td>0.203434</td>\n",
       "      <td>0.241536</td>\n",
       "      <td>...</td>\n",
       "      <td>0.140764</td>\n",
       "      <td>0.128774</td>\n",
       "      <td>-0.359215</td>\n",
       "      <td>0.240357</td>\n",
       "      <td>0.224941</td>\n",
       "      <td>0.403000</td>\n",
       "      <td>-0.120038</td>\n",
       "      <td>0.141757</td>\n",
       "      <td>0.162069</td>\n",
       "      <td>-0.106598</td>\n",
       "    </tr>\n",
       "    <tr>\n",
       "      <th>102</th>\n",
       "      <td>-0.377415</td>\n",
       "      <td>0.418809</td>\n",
       "      <td>-0.139586</td>\n",
       "      <td>-0.206387</td>\n",
       "      <td>-0.226422</td>\n",
       "      <td>0.578719</td>\n",
       "      <td>1.000000</td>\n",
       "      <td>-0.303843</td>\n",
       "      <td>0.088393</td>\n",
       "      <td>0.057036</td>\n",
       "      <td>...</td>\n",
       "      <td>-0.324841</td>\n",
       "      <td>0.000426</td>\n",
       "      <td>-0.454167</td>\n",
       "      <td>-0.283326</td>\n",
       "      <td>-0.023039</td>\n",
       "      <td>-0.009479</td>\n",
       "      <td>-0.406497</td>\n",
       "      <td>-0.251850</td>\n",
       "      <td>-0.245020</td>\n",
       "      <td>-0.460621</td>\n",
       "    </tr>\n",
       "    <tr>\n",
       "      <th>105</th>\n",
       "      <td>-0.059766</td>\n",
       "      <td>0.124132</td>\n",
       "      <td>0.301428</td>\n",
       "      <td>0.113294</td>\n",
       "      <td>-0.202451</td>\n",
       "      <td>0.334039</td>\n",
       "      <td>-0.303843</td>\n",
       "      <td>1.000000</td>\n",
       "      <td>-0.084228</td>\n",
       "      <td>0.117184</td>\n",
       "      <td>...</td>\n",
       "      <td>0.754963</td>\n",
       "      <td>-0.099642</td>\n",
       "      <td>0.374381</td>\n",
       "      <td>0.730895</td>\n",
       "      <td>0.169544</td>\n",
       "      <td>0.159843</td>\n",
       "      <td>0.407354</td>\n",
       "      <td>0.176014</td>\n",
       "      <td>0.520565</td>\n",
       "      <td>-0.131195</td>\n",
       "    </tr>\n",
       "    <tr>\n",
       "      <th>106</th>\n",
       "      <td>0.049336</td>\n",
       "      <td>0.181864</td>\n",
       "      <td>-0.658612</td>\n",
       "      <td>0.634354</td>\n",
       "      <td>0.510548</td>\n",
       "      <td>0.203434</td>\n",
       "      <td>0.088393</td>\n",
       "      <td>-0.084228</td>\n",
       "      <td>1.000000</td>\n",
       "      <td>0.363415</td>\n",
       "      <td>...</td>\n",
       "      <td>-0.132514</td>\n",
       "      <td>-0.452421</td>\n",
       "      <td>-0.327944</td>\n",
       "      <td>0.110802</td>\n",
       "      <td>0.053068</td>\n",
       "      <td>0.054562</td>\n",
       "      <td>0.233852</td>\n",
       "      <td>0.599607</td>\n",
       "      <td>-0.022502</td>\n",
       "      <td>-0.155990</td>\n",
       "    </tr>\n",
       "    <tr>\n",
       "      <th>109</th>\n",
       "      <td>0.324289</td>\n",
       "      <td>0.326968</td>\n",
       "      <td>-0.124668</td>\n",
       "      <td>0.426023</td>\n",
       "      <td>0.643075</td>\n",
       "      <td>0.241536</td>\n",
       "      <td>0.057036</td>\n",
       "      <td>0.117184</td>\n",
       "      <td>0.363415</td>\n",
       "      <td>1.000000</td>\n",
       "      <td>...</td>\n",
       "      <td>0.065696</td>\n",
       "      <td>-0.115734</td>\n",
       "      <td>0.179012</td>\n",
       "      <td>0.170177</td>\n",
       "      <td>-0.481235</td>\n",
       "      <td>0.652795</td>\n",
       "      <td>0.437263</td>\n",
       "      <td>0.287077</td>\n",
       "      <td>-0.130827</td>\n",
       "      <td>-0.296431</td>\n",
       "    </tr>\n",
       "    <tr>\n",
       "      <th>113</th>\n",
       "      <td>-0.161963</td>\n",
       "      <td>0.306164</td>\n",
       "      <td>-0.087082</td>\n",
       "      <td>0.287274</td>\n",
       "      <td>0.043835</td>\n",
       "      <td>0.548974</td>\n",
       "      <td>0.388871</td>\n",
       "      <td>0.519296</td>\n",
       "      <td>0.331634</td>\n",
       "      <td>0.559222</td>\n",
       "      <td>...</td>\n",
       "      <td>0.190053</td>\n",
       "      <td>-0.359782</td>\n",
       "      <td>0.062261</td>\n",
       "      <td>0.244345</td>\n",
       "      <td>-0.186722</td>\n",
       "      <td>0.139154</td>\n",
       "      <td>0.222562</td>\n",
       "      <td>0.181658</td>\n",
       "      <td>0.190227</td>\n",
       "      <td>-0.679650</td>\n",
       "    </tr>\n",
       "    <tr>\n",
       "      <th>138</th>\n",
       "      <td>0.284311</td>\n",
       "      <td>0.500047</td>\n",
       "      <td>-0.001387</td>\n",
       "      <td>0.172155</td>\n",
       "      <td>0.250447</td>\n",
       "      <td>0.286776</td>\n",
       "      <td>0.317674</td>\n",
       "      <td>-0.120865</td>\n",
       "      <td>-0.089779</td>\n",
       "      <td>0.307574</td>\n",
       "      <td>...</td>\n",
       "      <td>-0.103974</td>\n",
       "      <td>0.600687</td>\n",
       "      <td>0.115548</td>\n",
       "      <td>-0.080774</td>\n",
       "      <td>0.269426</td>\n",
       "      <td>0.311361</td>\n",
       "      <td>0.298551</td>\n",
       "      <td>-0.160849</td>\n",
       "      <td>-0.641239</td>\n",
       "      <td>0.073685</td>\n",
       "    </tr>\n",
       "    <tr>\n",
       "      <th>155</th>\n",
       "      <td>-0.228967</td>\n",
       "      <td>0.174382</td>\n",
       "      <td>-0.232252</td>\n",
       "      <td>0.339800</td>\n",
       "      <td>0.326149</td>\n",
       "      <td>0.275949</td>\n",
       "      <td>0.171003</td>\n",
       "      <td>-0.345718</td>\n",
       "      <td>0.684674</td>\n",
       "      <td>-0.009058</td>\n",
       "      <td>...</td>\n",
       "      <td>-0.494106</td>\n",
       "      <td>0.214429</td>\n",
       "      <td>-0.637781</td>\n",
       "      <td>-0.243707</td>\n",
       "      <td>0.313403</td>\n",
       "      <td>-0.134664</td>\n",
       "      <td>-0.076662</td>\n",
       "      <td>0.547102</td>\n",
       "      <td>-0.127099</td>\n",
       "      <td>0.201025</td>\n",
       "    </tr>\n",
       "    <tr>\n",
       "      <th>164</th>\n",
       "      <td>0.357477</td>\n",
       "      <td>0.060884</td>\n",
       "      <td>0.060840</td>\n",
       "      <td>-0.006044</td>\n",
       "      <td>-0.117970</td>\n",
       "      <td>0.140764</td>\n",
       "      <td>-0.324841</td>\n",
       "      <td>0.754963</td>\n",
       "      <td>-0.132514</td>\n",
       "      <td>0.065696</td>\n",
       "      <td>...</td>\n",
       "      <td>1.000000</td>\n",
       "      <td>-0.275936</td>\n",
       "      <td>0.537125</td>\n",
       "      <td>0.894100</td>\n",
       "      <td>0.134784</td>\n",
       "      <td>0.365061</td>\n",
       "      <td>0.417885</td>\n",
       "      <td>-0.019865</td>\n",
       "      <td>0.294461</td>\n",
       "      <td>0.033993</td>\n",
       "    </tr>\n",
       "    <tr>\n",
       "      <th>172</th>\n",
       "      <td>-0.091999</td>\n",
       "      <td>0.250338</td>\n",
       "      <td>0.665384</td>\n",
       "      <td>-0.100249</td>\n",
       "      <td>-0.156398</td>\n",
       "      <td>0.128774</td>\n",
       "      <td>0.000426</td>\n",
       "      <td>-0.099642</td>\n",
       "      <td>-0.452421</td>\n",
       "      <td>-0.115734</td>\n",
       "      <td>...</td>\n",
       "      <td>-0.275936</td>\n",
       "      <td>1.000000</td>\n",
       "      <td>-0.004155</td>\n",
       "      <td>-0.363440</td>\n",
       "      <td>0.304429</td>\n",
       "      <td>0.042652</td>\n",
       "      <td>-0.147605</td>\n",
       "      <td>-0.136244</td>\n",
       "      <td>-0.329880</td>\n",
       "      <td>0.403578</td>\n",
       "    </tr>\n",
       "    <tr>\n",
       "      <th>191</th>\n",
       "      <td>0.733656</td>\n",
       "      <td>0.018181</td>\n",
       "      <td>0.081015</td>\n",
       "      <td>0.227897</td>\n",
       "      <td>0.043345</td>\n",
       "      <td>-0.359215</td>\n",
       "      <td>-0.454167</td>\n",
       "      <td>0.374381</td>\n",
       "      <td>-0.327944</td>\n",
       "      <td>0.179012</td>\n",
       "      <td>...</td>\n",
       "      <td>0.537125</td>\n",
       "      <td>-0.004155</td>\n",
       "      <td>1.000000</td>\n",
       "      <td>0.220600</td>\n",
       "      <td>0.141753</td>\n",
       "      <td>0.111003</td>\n",
       "      <td>0.533908</td>\n",
       "      <td>-0.402733</td>\n",
       "      <td>-0.324656</td>\n",
       "      <td>0.105910</td>\n",
       "    </tr>\n",
       "    <tr>\n",
       "      <th>196</th>\n",
       "      <td>0.166098</td>\n",
       "      <td>0.101949</td>\n",
       "      <td>-0.113210</td>\n",
       "      <td>0.049385</td>\n",
       "      <td>0.081832</td>\n",
       "      <td>0.240357</td>\n",
       "      <td>-0.283326</td>\n",
       "      <td>0.730895</td>\n",
       "      <td>0.110802</td>\n",
       "      <td>0.170177</td>\n",
       "      <td>...</td>\n",
       "      <td>0.894100</td>\n",
       "      <td>-0.363440</td>\n",
       "      <td>0.220600</td>\n",
       "      <td>1.000000</td>\n",
       "      <td>0.049180</td>\n",
       "      <td>0.402251</td>\n",
       "      <td>0.511064</td>\n",
       "      <td>0.247312</td>\n",
       "      <td>0.489581</td>\n",
       "      <td>-0.013787</td>\n",
       "    </tr>\n",
       "    <tr>\n",
       "      <th>225</th>\n",
       "      <td>0.043419</td>\n",
       "      <td>0.338013</td>\n",
       "      <td>-0.005863</td>\n",
       "      <td>0.005783</td>\n",
       "      <td>-0.109479</td>\n",
       "      <td>0.224941</td>\n",
       "      <td>-0.023039</td>\n",
       "      <td>0.169544</td>\n",
       "      <td>0.053068</td>\n",
       "      <td>-0.481235</td>\n",
       "      <td>...</td>\n",
       "      <td>0.134784</td>\n",
       "      <td>0.304429</td>\n",
       "      <td>0.141753</td>\n",
       "      <td>0.049180</td>\n",
       "      <td>1.000000</td>\n",
       "      <td>-0.265452</td>\n",
       "      <td>0.207075</td>\n",
       "      <td>-0.264708</td>\n",
       "      <td>-0.219614</td>\n",
       "      <td>0.552432</td>\n",
       "    </tr>\n",
       "    <tr>\n",
       "      <th>227</th>\n",
       "      <td>0.289917</td>\n",
       "      <td>0.354941</td>\n",
       "      <td>0.106827</td>\n",
       "      <td>-0.028706</td>\n",
       "      <td>0.393785</td>\n",
       "      <td>0.403000</td>\n",
       "      <td>-0.009479</td>\n",
       "      <td>0.159843</td>\n",
       "      <td>0.054562</td>\n",
       "      <td>0.652795</td>\n",
       "      <td>...</td>\n",
       "      <td>0.365061</td>\n",
       "      <td>0.042652</td>\n",
       "      <td>0.111003</td>\n",
       "      <td>0.402251</td>\n",
       "      <td>-0.265452</td>\n",
       "      <td>1.000000</td>\n",
       "      <td>0.141159</td>\n",
       "      <td>0.083682</td>\n",
       "      <td>-0.037733</td>\n",
       "      <td>0.131065</td>\n",
       "    </tr>\n",
       "    <tr>\n",
       "      <th>229</th>\n",
       "      <td>0.508201</td>\n",
       "      <td>0.234072</td>\n",
       "      <td>-0.335684</td>\n",
       "      <td>0.426077</td>\n",
       "      <td>0.596886</td>\n",
       "      <td>-0.120038</td>\n",
       "      <td>-0.406497</td>\n",
       "      <td>0.407354</td>\n",
       "      <td>0.233852</td>\n",
       "      <td>0.437263</td>\n",
       "      <td>...</td>\n",
       "      <td>0.417885</td>\n",
       "      <td>-0.147605</td>\n",
       "      <td>0.533908</td>\n",
       "      <td>0.511064</td>\n",
       "      <td>0.207075</td>\n",
       "      <td>0.141159</td>\n",
       "      <td>1.000000</td>\n",
       "      <td>0.071268</td>\n",
       "      <td>-0.033110</td>\n",
       "      <td>0.136757</td>\n",
       "    </tr>\n",
       "    <tr>\n",
       "      <th>232</th>\n",
       "      <td>-0.084443</td>\n",
       "      <td>-0.320462</td>\n",
       "      <td>-0.100878</td>\n",
       "      <td>0.461276</td>\n",
       "      <td>0.327006</td>\n",
       "      <td>0.141757</td>\n",
       "      <td>-0.251850</td>\n",
       "      <td>0.176014</td>\n",
       "      <td>0.599607</td>\n",
       "      <td>0.287077</td>\n",
       "      <td>...</td>\n",
       "      <td>-0.019865</td>\n",
       "      <td>-0.136244</td>\n",
       "      <td>-0.402733</td>\n",
       "      <td>0.247312</td>\n",
       "      <td>-0.264708</td>\n",
       "      <td>0.083682</td>\n",
       "      <td>0.071268</td>\n",
       "      <td>1.000000</td>\n",
       "      <td>0.327655</td>\n",
       "      <td>-0.216490</td>\n",
       "    </tr>\n",
       "    <tr>\n",
       "      <th>236</th>\n",
       "      <td>-0.597718</td>\n",
       "      <td>-0.206578</td>\n",
       "      <td>0.237461</td>\n",
       "      <td>-0.334550</td>\n",
       "      <td>-0.164982</td>\n",
       "      <td>0.162069</td>\n",
       "      <td>-0.245020</td>\n",
       "      <td>0.520565</td>\n",
       "      <td>-0.022502</td>\n",
       "      <td>-0.130827</td>\n",
       "      <td>...</td>\n",
       "      <td>0.294461</td>\n",
       "      <td>-0.329880</td>\n",
       "      <td>-0.324656</td>\n",
       "      <td>0.489581</td>\n",
       "      <td>-0.219614</td>\n",
       "      <td>-0.037733</td>\n",
       "      <td>-0.033110</td>\n",
       "      <td>0.327655</td>\n",
       "      <td>1.000000</td>\n",
       "      <td>-0.045046</td>\n",
       "    </tr>\n",
       "    <tr>\n",
       "      <th>247</th>\n",
       "      <td>0.167139</td>\n",
       "      <td>0.096625</td>\n",
       "      <td>0.237256</td>\n",
       "      <td>-0.295701</td>\n",
       "      <td>0.250601</td>\n",
       "      <td>-0.106598</td>\n",
       "      <td>-0.460621</td>\n",
       "      <td>-0.131195</td>\n",
       "      <td>-0.155990</td>\n",
       "      <td>-0.296431</td>\n",
       "      <td>...</td>\n",
       "      <td>0.033993</td>\n",
       "      <td>0.403578</td>\n",
       "      <td>0.105910</td>\n",
       "      <td>-0.013787</td>\n",
       "      <td>0.552432</td>\n",
       "      <td>0.131065</td>\n",
       "      <td>0.136757</td>\n",
       "      <td>-0.216490</td>\n",
       "      <td>-0.045046</td>\n",
       "      <td>1.000000</td>\n",
       "    </tr>\n",
       "  </tbody>\n",
       "</table>\n",
       "<p>23 rows × 23 columns</p>\n",
       "</div>"
      ],
      "text/plain": [
       "STORE_NBR       13        55        57        62        86        97   \\\n",
       "STORE_NBR                                                               \n",
       "13         1.000000 -0.125341 -0.291218  0.365314  0.457947 -0.373037   \n",
       "55        -0.125341  1.000000 -0.039301  0.181823  0.043906  0.495256   \n",
       "57        -0.291218 -0.039301  1.000000 -0.428165 -0.402687  0.221201   \n",
       "62         0.365314  0.181823 -0.428165  1.000000  0.276452 -0.184301   \n",
       "86         0.457947  0.043906 -0.402687  0.276452  1.000000 -0.015617   \n",
       "97        -0.373037  0.495256  0.221201 -0.184301 -0.015617  1.000000   \n",
       "102       -0.377415  0.418809 -0.139586 -0.206387 -0.226422  0.578719   \n",
       "105       -0.059766  0.124132  0.301428  0.113294 -0.202451  0.334039   \n",
       "106        0.049336  0.181864 -0.658612  0.634354  0.510548  0.203434   \n",
       "109        0.324289  0.326968 -0.124668  0.426023  0.643075  0.241536   \n",
       "113       -0.161963  0.306164 -0.087082  0.287274  0.043835  0.548974   \n",
       "138        0.284311  0.500047 -0.001387  0.172155  0.250447  0.286776   \n",
       "155       -0.228967  0.174382 -0.232252  0.339800  0.326149  0.275949   \n",
       "164        0.357477  0.060884  0.060840 -0.006044 -0.117970  0.140764   \n",
       "172       -0.091999  0.250338  0.665384 -0.100249 -0.156398  0.128774   \n",
       "191        0.733656  0.018181  0.081015  0.227897  0.043345 -0.359215   \n",
       "196        0.166098  0.101949 -0.113210  0.049385  0.081832  0.240357   \n",
       "225        0.043419  0.338013 -0.005863  0.005783 -0.109479  0.224941   \n",
       "227        0.289917  0.354941  0.106827 -0.028706  0.393785  0.403000   \n",
       "229        0.508201  0.234072 -0.335684  0.426077  0.596886 -0.120038   \n",
       "232       -0.084443 -0.320462 -0.100878  0.461276  0.327006  0.141757   \n",
       "236       -0.597718 -0.206578  0.237461 -0.334550 -0.164982  0.162069   \n",
       "247        0.167139  0.096625  0.237256 -0.295701  0.250601 -0.106598   \n",
       "\n",
       "STORE_NBR       102       105       106       109  ...       164       172  \\\n",
       "STORE_NBR                                          ...                       \n",
       "13        -0.377415 -0.059766  0.049336  0.324289  ...  0.357477 -0.091999   \n",
       "55         0.418809  0.124132  0.181864  0.326968  ...  0.060884  0.250338   \n",
       "57        -0.139586  0.301428 -0.658612 -0.124668  ...  0.060840  0.665384   \n",
       "62        -0.206387  0.113294  0.634354  0.426023  ... -0.006044 -0.100249   \n",
       "86        -0.226422 -0.202451  0.510548  0.643075  ... -0.117970 -0.156398   \n",
       "97         0.578719  0.334039  0.203434  0.241536  ...  0.140764  0.128774   \n",
       "102        1.000000 -0.303843  0.088393  0.057036  ... -0.324841  0.000426   \n",
       "105       -0.303843  1.000000 -0.084228  0.117184  ...  0.754963 -0.099642   \n",
       "106        0.088393 -0.084228  1.000000  0.363415  ... -0.132514 -0.452421   \n",
       "109        0.057036  0.117184  0.363415  1.000000  ...  0.065696 -0.115734   \n",
       "113        0.388871  0.519296  0.331634  0.559222  ...  0.190053 -0.359782   \n",
       "138        0.317674 -0.120865 -0.089779  0.307574  ... -0.103974  0.600687   \n",
       "155        0.171003 -0.345718  0.684674 -0.009058  ... -0.494106  0.214429   \n",
       "164       -0.324841  0.754963 -0.132514  0.065696  ...  1.000000 -0.275936   \n",
       "172        0.000426 -0.099642 -0.452421 -0.115734  ... -0.275936  1.000000   \n",
       "191       -0.454167  0.374381 -0.327944  0.179012  ...  0.537125 -0.004155   \n",
       "196       -0.283326  0.730895  0.110802  0.170177  ...  0.894100 -0.363440   \n",
       "225       -0.023039  0.169544  0.053068 -0.481235  ...  0.134784  0.304429   \n",
       "227       -0.009479  0.159843  0.054562  0.652795  ...  0.365061  0.042652   \n",
       "229       -0.406497  0.407354  0.233852  0.437263  ...  0.417885 -0.147605   \n",
       "232       -0.251850  0.176014  0.599607  0.287077  ... -0.019865 -0.136244   \n",
       "236       -0.245020  0.520565 -0.022502 -0.130827  ...  0.294461 -0.329880   \n",
       "247       -0.460621 -0.131195 -0.155990 -0.296431  ...  0.033993  0.403578   \n",
       "\n",
       "STORE_NBR       191       196       225       227       229       232  \\\n",
       "STORE_NBR                                                               \n",
       "13         0.733656  0.166098  0.043419  0.289917  0.508201 -0.084443   \n",
       "55         0.018181  0.101949  0.338013  0.354941  0.234072 -0.320462   \n",
       "57         0.081015 -0.113210 -0.005863  0.106827 -0.335684 -0.100878   \n",
       "62         0.227897  0.049385  0.005783 -0.028706  0.426077  0.461276   \n",
       "86         0.043345  0.081832 -0.109479  0.393785  0.596886  0.327006   \n",
       "97        -0.359215  0.240357  0.224941  0.403000 -0.120038  0.141757   \n",
       "102       -0.454167 -0.283326 -0.023039 -0.009479 -0.406497 -0.251850   \n",
       "105        0.374381  0.730895  0.169544  0.159843  0.407354  0.176014   \n",
       "106       -0.327944  0.110802  0.053068  0.054562  0.233852  0.599607   \n",
       "109        0.179012  0.170177 -0.481235  0.652795  0.437263  0.287077   \n",
       "113        0.062261  0.244345 -0.186722  0.139154  0.222562  0.181658   \n",
       "138        0.115548 -0.080774  0.269426  0.311361  0.298551 -0.160849   \n",
       "155       -0.637781 -0.243707  0.313403 -0.134664 -0.076662  0.547102   \n",
       "164        0.537125  0.894100  0.134784  0.365061  0.417885 -0.019865   \n",
       "172       -0.004155 -0.363440  0.304429  0.042652 -0.147605 -0.136244   \n",
       "191        1.000000  0.220600  0.141753  0.111003  0.533908 -0.402733   \n",
       "196        0.220600  1.000000  0.049180  0.402251  0.511064  0.247312   \n",
       "225        0.141753  0.049180  1.000000 -0.265452  0.207075 -0.264708   \n",
       "227        0.111003  0.402251 -0.265452  1.000000  0.141159  0.083682   \n",
       "229        0.533908  0.511064  0.207075  0.141159  1.000000  0.071268   \n",
       "232       -0.402733  0.247312 -0.264708  0.083682  0.071268  1.000000   \n",
       "236       -0.324656  0.489581 -0.219614 -0.037733 -0.033110  0.327655   \n",
       "247        0.105910 -0.013787  0.552432  0.131065  0.136757 -0.216490   \n",
       "\n",
       "STORE_NBR       236       247  \n",
       "STORE_NBR                      \n",
       "13        -0.597718  0.167139  \n",
       "55        -0.206578  0.096625  \n",
       "57         0.237461  0.237256  \n",
       "62        -0.334550 -0.295701  \n",
       "86        -0.164982  0.250601  \n",
       "97         0.162069 -0.106598  \n",
       "102       -0.245020 -0.460621  \n",
       "105        0.520565 -0.131195  \n",
       "106       -0.022502 -0.155990  \n",
       "109       -0.130827 -0.296431  \n",
       "113        0.190227 -0.679650  \n",
       "138       -0.641239  0.073685  \n",
       "155       -0.127099  0.201025  \n",
       "164        0.294461  0.033993  \n",
       "172       -0.329880  0.403578  \n",
       "191       -0.324656  0.105910  \n",
       "196        0.489581 -0.013787  \n",
       "225       -0.219614  0.552432  \n",
       "227       -0.037733  0.131065  \n",
       "229       -0.033110  0.136757  \n",
       "232        0.327655 -0.216490  \n",
       "236        1.000000 -0.045046  \n",
       "247       -0.045046  1.000000  \n",
       "\n",
       "[23 rows x 23 columns]"
      ]
     },
     "execution_count": 18,
     "metadata": {},
     "output_type": "execute_result"
    }
   ],
   "source": [
    "\n",
    "piv2 = Data16.pivot_table(index = \"Month_Year\", columns = \"STORE_NBR\", values = \"values\")\n",
    "piv2.corr(method = \"pearson\")\n"
   ]
  },
  {
   "cell_type": "code",
   "execution_count": 19,
   "id": "738aa1ed-7a54-43ef-8a81-0bec534e9328",
   "metadata": {},
   "outputs": [
    {
     "data": {
      "text/plain": [
       "<Figure size 1200x700 with 0 Axes>"
      ]
     },
     "metadata": {},
     "output_type": "display_data"
    },
    {
     "data": {
      "image/png": "[encoded data removed]",
      "text/plain": [
       "<Figure size 640x480 with 1 Axes>"
      ]
     },
     "metadata": {},
     "output_type": "display_data"
    }
   ],
   "source": [
    "plt.figure(figsize = (12,7))\n",
    "\n",
    "Known1 = piv2[[86,109]]\n",
    "Known1.plot()\n",
    "plt.show()"
   ]
  },
  {
   "cell_type": "code",
   "execution_count": null,
   "id": "d128858a-bdca-4aa1-93e7-cc8d8ded29a9",
   "metadata": {},
   "outputs": [],
   "source": []
  },
  {
   "cell_type": "code",
   "execution_count": 20,
   "id": "8ea35b64-2330-4912-9303-846828eb892d",
   "metadata": {},
   "outputs": [
    {
     "data": {
      "text/plain": [
       "STORE_NBR\n",
       "125    13352.85\n",
       "123    13468.40\n",
       "210    13689.25\n",
       "238    13708.40\n",
       "261    13859.75\n",
       "95     13915.50\n",
       "217    13993.60\n",
       "181    14108.45\n",
       "72     14204.40\n",
       "130    14289.65\n",
       "201    14298.70\n",
       "81     14361.95\n",
       "26     14469.30\n",
       "203    14551.60\n",
       "4      14647.65\n",
       "199    14797.00\n",
       "58     15251.45\n",
       "237    15539.50\n",
       "40     15559.50\n",
       "165    15973.75\n",
       "88     16333.25\n",
       "226    17605.45\n",
       "Name: TOT_SALES, dtype: float64"
      ]
     },
     "execution_count": 20,
     "metadata": {},
     "output_type": "execute_result"
    }
   ],
   "source": [
    "Data20 = Data.groupby('STORE_NBR')['TOT_SALES'].sum().sort_values(ascending = True)#,'Month_Year'\n",
    "Data20.iloc[250:]"
   ]
  },
  {
   "cell_type": "code",
   "execution_count": 22,
   "id": "51b51f17-f50a-42b7-96bb-625dba9548d1",
   "metadata": {},
   "outputs": [],
   "source": [
    "Data21 = Data.groupby(['STORE_NBR','Month_Year'])['TOT_SALES'].sum().sort_values(ascending = True)\n",
    "\n",
    "Sorts = [125,123,210,238,261,95,217,181,72,130,201,81,26,203,4,199,58,237,40,165,88,226]\n",
    "Data22 = pd.DataFrame({\"values\" :Data21[Sorts]})\n"
   ]
  },
  {
   "cell_type": "code",
   "execution_count": 25,
   "id": "d36c96e7-60e0-474f-b52c-07f9fb1431a1",
   "metadata": {},
   "outputs": [
    {
     "data": {
      "text/html": [
       "<div>\n",
       "<style scoped>\n",
       "    .dataframe tbody tr th:only-of-type {\n",
       "        vertical-align: middle;\n",
       "    }\n",
       "\n",
       "    .dataframe tbody tr th {\n",
       "        vertical-align: top;\n",
       "    }\n",
       "\n",
       "    .dataframe thead th {\n",
       "        text-align: right;\n",
       "    }\n",
       "</style>\n",
       "<table border=\"1\" class=\"dataframe\">\n",
       "  <thead>\n",
       "    <tr style=\"text-align: right;\">\n",
       "      <th>STORE_NBR</th>\n",
       "      <th>4</th>\n",
       "      <th>26</th>\n",
       "      <th>40</th>\n",
       "      <th>58</th>\n",
       "      <th>72</th>\n",
       "      <th>81</th>\n",
       "      <th>88</th>\n",
       "      <th>95</th>\n",
       "      <th>123</th>\n",
       "      <th>125</th>\n",
       "      <th>...</th>\n",
       "      <th>181</th>\n",
       "      <th>199</th>\n",
       "      <th>201</th>\n",
       "      <th>203</th>\n",
       "      <th>210</th>\n",
       "      <th>217</th>\n",
       "      <th>226</th>\n",
       "      <th>237</th>\n",
       "      <th>238</th>\n",
       "      <th>261</th>\n",
       "    </tr>\n",
       "    <tr>\n",
       "      <th>STORE_NBR</th>\n",
       "      <th></th>\n",
       "      <th></th>\n",
       "      <th></th>\n",
       "      <th></th>\n",
       "      <th></th>\n",
       "      <th></th>\n",
       "      <th></th>\n",
       "      <th></th>\n",
       "      <th></th>\n",
       "      <th></th>\n",
       "      <th></th>\n",
       "      <th></th>\n",
       "      <th></th>\n",
       "      <th></th>\n",
       "      <th></th>\n",
       "      <th></th>\n",
       "      <th></th>\n",
       "      <th></th>\n",
       "      <th></th>\n",
       "      <th></th>\n",
       "      <th></th>\n",
       "    </tr>\n",
       "  </thead>\n",
       "  <tbody>\n",
       "    <tr>\n",
       "      <th>4</th>\n",
       "      <td>1.000000</td>\n",
       "      <td>0.145229</td>\n",
       "      <td>-0.239541</td>\n",
       "      <td>0.462517</td>\n",
       "      <td>0.642654</td>\n",
       "      <td>-0.091353</td>\n",
       "      <td>-0.319831</td>\n",
       "      <td>-0.038154</td>\n",
       "      <td>-0.056994</td>\n",
       "      <td>0.312848</td>\n",
       "      <td>...</td>\n",
       "      <td>0.446083</td>\n",
       "      <td>0.213738</td>\n",
       "      <td>0.019206</td>\n",
       "      <td>0.304076</td>\n",
       "      <td>0.569730</td>\n",
       "      <td>0.334087</td>\n",
       "      <td>0.035908</td>\n",
       "      <td>0.005885</td>\n",
       "      <td>0.245825</td>\n",
       "      <td>0.354522</td>\n",
       "    </tr>\n",
       "    <tr>\n",
       "      <th>26</th>\n",
       "      <td>0.145229</td>\n",
       "      <td>1.000000</td>\n",
       "      <td>0.024883</td>\n",
       "      <td>0.301079</td>\n",
       "      <td>0.049001</td>\n",
       "      <td>0.703522</td>\n",
       "      <td>0.439615</td>\n",
       "      <td>-0.133565</td>\n",
       "      <td>-0.299583</td>\n",
       "      <td>0.609910</td>\n",
       "      <td>...</td>\n",
       "      <td>0.463871</td>\n",
       "      <td>0.208887</td>\n",
       "      <td>0.524732</td>\n",
       "      <td>0.282060</td>\n",
       "      <td>0.766554</td>\n",
       "      <td>0.382774</td>\n",
       "      <td>0.726257</td>\n",
       "      <td>-0.250022</td>\n",
       "      <td>-0.259899</td>\n",
       "      <td>0.225313</td>\n",
       "    </tr>\n",
       "    <tr>\n",
       "      <th>40</th>\n",
       "      <td>-0.239541</td>\n",
       "      <td>0.024883</td>\n",
       "      <td>1.000000</td>\n",
       "      <td>0.060504</td>\n",
       "      <td>0.182486</td>\n",
       "      <td>0.565346</td>\n",
       "      <td>-0.141734</td>\n",
       "      <td>-0.211049</td>\n",
       "      <td>-0.431312</td>\n",
       "      <td>-0.468838</td>\n",
       "      <td>...</td>\n",
       "      <td>0.150957</td>\n",
       "      <td>0.324596</td>\n",
       "      <td>-0.086166</td>\n",
       "      <td>-0.138148</td>\n",
       "      <td>-0.183315</td>\n",
       "      <td>-0.014094</td>\n",
       "      <td>0.049454</td>\n",
       "      <td>-0.345708</td>\n",
       "      <td>-0.436141</td>\n",
       "      <td>0.263819</td>\n",
       "    </tr>\n",
       "    <tr>\n",
       "      <th>58</th>\n",
       "      <td>0.462517</td>\n",
       "      <td>0.301079</td>\n",
       "      <td>0.060504</td>\n",
       "      <td>1.000000</td>\n",
       "      <td>0.311481</td>\n",
       "      <td>0.147287</td>\n",
       "      <td>0.224899</td>\n",
       "      <td>-0.356401</td>\n",
       "      <td>0.094355</td>\n",
       "      <td>0.113932</td>\n",
       "      <td>...</td>\n",
       "      <td>0.579452</td>\n",
       "      <td>0.300950</td>\n",
       "      <td>0.072914</td>\n",
       "      <td>0.057085</td>\n",
       "      <td>0.373580</td>\n",
       "      <td>0.326146</td>\n",
       "      <td>0.127159</td>\n",
       "      <td>0.311110</td>\n",
       "      <td>-0.216723</td>\n",
       "      <td>-0.003996</td>\n",
       "    </tr>\n",
       "    <tr>\n",
       "      <th>72</th>\n",
       "      <td>0.642654</td>\n",
       "      <td>0.049001</td>\n",
       "      <td>0.182486</td>\n",
       "      <td>0.311481</td>\n",
       "      <td>1.000000</td>\n",
       "      <td>0.152143</td>\n",
       "      <td>-0.348883</td>\n",
       "      <td>0.017109</td>\n",
       "      <td>0.083195</td>\n",
       "      <td>0.033888</td>\n",
       "      <td>...</td>\n",
       "      <td>0.593012</td>\n",
       "      <td>0.532261</td>\n",
       "      <td>-0.070383</td>\n",
       "      <td>0.406311</td>\n",
       "      <td>0.172489</td>\n",
       "      <td>0.092255</td>\n",
       "      <td>-0.223535</td>\n",
       "      <td>0.175916</td>\n",
       "      <td>-0.231521</td>\n",
       "      <td>0.645316</td>\n",
       "    </tr>\n",
       "    <tr>\n",
       "      <th>81</th>\n",
       "      <td>-0.091353</td>\n",
       "      <td>0.703522</td>\n",
       "      <td>0.565346</td>\n",
       "      <td>0.147287</td>\n",
       "      <td>0.152143</td>\n",
       "      <td>1.000000</td>\n",
       "      <td>0.197483</td>\n",
       "      <td>-0.291601</td>\n",
       "      <td>-0.513938</td>\n",
       "      <td>0.187666</td>\n",
       "      <td>...</td>\n",
       "      <td>0.143459</td>\n",
       "      <td>0.128549</td>\n",
       "      <td>0.110531</td>\n",
       "      <td>0.039563</td>\n",
       "      <td>0.321661</td>\n",
       "      <td>0.311429</td>\n",
       "      <td>0.303700</td>\n",
       "      <td>-0.406137</td>\n",
       "      <td>-0.209974</td>\n",
       "      <td>0.251837</td>\n",
       "    </tr>\n",
       "    <tr>\n",
       "      <th>88</th>\n",
       "      <td>-0.319831</td>\n",
       "      <td>0.439615</td>\n",
       "      <td>-0.141734</td>\n",
       "      <td>0.224899</td>\n",
       "      <td>-0.348883</td>\n",
       "      <td>0.197483</td>\n",
       "      <td>1.000000</td>\n",
       "      <td>0.364865</td>\n",
       "      <td>0.276588</td>\n",
       "      <td>0.360838</td>\n",
       "      <td>...</td>\n",
       "      <td>0.026537</td>\n",
       "      <td>-0.071859</td>\n",
       "      <td>0.737583</td>\n",
       "      <td>-0.273307</td>\n",
       "      <td>0.223905</td>\n",
       "      <td>-0.092024</td>\n",
       "      <td>0.235797</td>\n",
       "      <td>-0.137177</td>\n",
       "      <td>-0.404274</td>\n",
       "      <td>-0.254241</td>\n",
       "    </tr>\n",
       "    <tr>\n",
       "      <th>95</th>\n",
       "      <td>-0.038154</td>\n",
       "      <td>-0.133565</td>\n",
       "      <td>-0.211049</td>\n",
       "      <td>-0.356401</td>\n",
       "      <td>0.017109</td>\n",
       "      <td>-0.291601</td>\n",
       "      <td>0.364865</td>\n",
       "      <td>1.000000</td>\n",
       "      <td>0.377951</td>\n",
       "      <td>0.343644</td>\n",
       "      <td>...</td>\n",
       "      <td>-0.127888</td>\n",
       "      <td>0.087424</td>\n",
       "      <td>0.477539</td>\n",
       "      <td>-0.172814</td>\n",
       "      <td>-0.046953</td>\n",
       "      <td>-0.215666</td>\n",
       "      <td>-0.016937</td>\n",
       "      <td>-0.317383</td>\n",
       "      <td>-0.115867</td>\n",
       "      <td>0.223455</td>\n",
       "    </tr>\n",
       "    <tr>\n",
       "      <th>123</th>\n",
       "      <td>-0.056994</td>\n",
       "      <td>-0.299583</td>\n",
       "      <td>-0.431312</td>\n",
       "      <td>0.094355</td>\n",
       "      <td>0.083195</td>\n",
       "      <td>-0.513938</td>\n",
       "      <td>0.276588</td>\n",
       "      <td>0.377951</td>\n",
       "      <td>1.000000</td>\n",
       "      <td>0.118875</td>\n",
       "      <td>...</td>\n",
       "      <td>-0.011415</td>\n",
       "      <td>0.085259</td>\n",
       "      <td>0.086478</td>\n",
       "      <td>0.207557</td>\n",
       "      <td>-0.427565</td>\n",
       "      <td>-0.466050</td>\n",
       "      <td>-0.389581</td>\n",
       "      <td>0.669474</td>\n",
       "      <td>-0.179323</td>\n",
       "      <td>-0.154009</td>\n",
       "    </tr>\n",
       "    <tr>\n",
       "      <th>125</th>\n",
       "      <td>0.312848</td>\n",
       "      <td>0.609910</td>\n",
       "      <td>-0.468838</td>\n",
       "      <td>0.113932</td>\n",
       "      <td>0.033888</td>\n",
       "      <td>0.187666</td>\n",
       "      <td>0.360838</td>\n",
       "      <td>0.343644</td>\n",
       "      <td>0.118875</td>\n",
       "      <td>1.000000</td>\n",
       "      <td>...</td>\n",
       "      <td>0.152041</td>\n",
       "      <td>0.088827</td>\n",
       "      <td>0.413662</td>\n",
       "      <td>0.381610</td>\n",
       "      <td>0.516898</td>\n",
       "      <td>0.281443</td>\n",
       "      <td>0.508336</td>\n",
       "      <td>-0.166064</td>\n",
       "      <td>0.172456</td>\n",
       "      <td>0.373689</td>\n",
       "    </tr>\n",
       "    <tr>\n",
       "      <th>130</th>\n",
       "      <td>0.010957</td>\n",
       "      <td>-0.143166</td>\n",
       "      <td>0.416386</td>\n",
       "      <td>-0.270807</td>\n",
       "      <td>0.414191</td>\n",
       "      <td>-0.093296</td>\n",
       "      <td>-0.366231</td>\n",
       "      <td>0.335076</td>\n",
       "      <td>-0.082874</td>\n",
       "      <td>-0.218384</td>\n",
       "      <td>...</td>\n",
       "      <td>0.450007</td>\n",
       "      <td>0.481370</td>\n",
       "      <td>0.068873</td>\n",
       "      <td>0.278049</td>\n",
       "      <td>-0.081858</td>\n",
       "      <td>-0.004984</td>\n",
       "      <td>0.199733</td>\n",
       "      <td>-0.091144</td>\n",
       "      <td>-0.399274</td>\n",
       "      <td>0.529394</td>\n",
       "    </tr>\n",
       "    <tr>\n",
       "      <th>165</th>\n",
       "      <td>0.249888</td>\n",
       "      <td>0.167009</td>\n",
       "      <td>0.372374</td>\n",
       "      <td>0.121878</td>\n",
       "      <td>0.002086</td>\n",
       "      <td>0.329747</td>\n",
       "      <td>-0.457783</td>\n",
       "      <td>-0.503583</td>\n",
       "      <td>-0.862925</td>\n",
       "      <td>-0.289279</td>\n",
       "      <td>...</td>\n",
       "      <td>0.103769</td>\n",
       "      <td>-0.119110</td>\n",
       "      <td>-0.311931</td>\n",
       "      <td>-0.176479</td>\n",
       "      <td>0.390984</td>\n",
       "      <td>0.591086</td>\n",
       "      <td>0.276446</td>\n",
       "      <td>-0.384525</td>\n",
       "      <td>0.280339</td>\n",
       "      <td>-0.055367</td>\n",
       "    </tr>\n",
       "    <tr>\n",
       "      <th>181</th>\n",
       "      <td>0.446083</td>\n",
       "      <td>0.463871</td>\n",
       "      <td>0.150957</td>\n",
       "      <td>0.579452</td>\n",
       "      <td>0.593012</td>\n",
       "      <td>0.143459</td>\n",
       "      <td>0.026537</td>\n",
       "      <td>-0.127888</td>\n",
       "      <td>-0.011415</td>\n",
       "      <td>0.152041</td>\n",
       "      <td>...</td>\n",
       "      <td>1.000000</td>\n",
       "      <td>0.652396</td>\n",
       "      <td>0.370930</td>\n",
       "      <td>0.501786</td>\n",
       "      <td>0.536018</td>\n",
       "      <td>0.241396</td>\n",
       "      <td>0.478759</td>\n",
       "      <td>0.221592</td>\n",
       "      <td>-0.582435</td>\n",
       "      <td>0.477049</td>\n",
       "    </tr>\n",
       "    <tr>\n",
       "      <th>199</th>\n",
       "      <td>0.213738</td>\n",
       "      <td>0.208887</td>\n",
       "      <td>0.324596</td>\n",
       "      <td>0.300950</td>\n",
       "      <td>0.532261</td>\n",
       "      <td>0.128549</td>\n",
       "      <td>-0.071859</td>\n",
       "      <td>0.087424</td>\n",
       "      <td>0.085259</td>\n",
       "      <td>0.088827</td>\n",
       "      <td>...</td>\n",
       "      <td>0.652396</td>\n",
       "      <td>1.000000</td>\n",
       "      <td>0.232501</td>\n",
       "      <td>0.168292</td>\n",
       "      <td>0.214427</td>\n",
       "      <td>-0.329460</td>\n",
       "      <td>0.237973</td>\n",
       "      <td>0.010110</td>\n",
       "      <td>-0.699914</td>\n",
       "      <td>0.743443</td>\n",
       "    </tr>\n",
       "    <tr>\n",
       "      <th>201</th>\n",
       "      <td>0.019206</td>\n",
       "      <td>0.524732</td>\n",
       "      <td>-0.086166</td>\n",
       "      <td>0.072914</td>\n",
       "      <td>-0.070383</td>\n",
       "      <td>0.110531</td>\n",
       "      <td>0.737583</td>\n",
       "      <td>0.477539</td>\n",
       "      <td>0.086478</td>\n",
       "      <td>0.413662</td>\n",
       "      <td>...</td>\n",
       "      <td>0.370930</td>\n",
       "      <td>0.232501</td>\n",
       "      <td>1.000000</td>\n",
       "      <td>0.000869</td>\n",
       "      <td>0.543068</td>\n",
       "      <td>-0.158368</td>\n",
       "      <td>0.512059</td>\n",
       "      <td>-0.360471</td>\n",
       "      <td>-0.554762</td>\n",
       "      <td>0.160783</td>\n",
       "    </tr>\n",
       "    <tr>\n",
       "      <th>203</th>\n",
       "      <td>0.304076</td>\n",
       "      <td>0.282060</td>\n",
       "      <td>-0.138148</td>\n",
       "      <td>0.057085</td>\n",
       "      <td>0.406311</td>\n",
       "      <td>0.039563</td>\n",
       "      <td>-0.273307</td>\n",
       "      <td>-0.172814</td>\n",
       "      <td>0.207557</td>\n",
       "      <td>0.381610</td>\n",
       "      <td>...</td>\n",
       "      <td>0.501786</td>\n",
       "      <td>0.168292</td>\n",
       "      <td>0.000869</td>\n",
       "      <td>1.000000</td>\n",
       "      <td>0.106441</td>\n",
       "      <td>0.220628</td>\n",
       "      <td>0.314826</td>\n",
       "      <td>0.438624</td>\n",
       "      <td>-0.003216</td>\n",
       "      <td>0.389786</td>\n",
       "    </tr>\n",
       "    <tr>\n",
       "      <th>210</th>\n",
       "      <td>0.569730</td>\n",
       "      <td>0.766554</td>\n",
       "      <td>-0.183315</td>\n",
       "      <td>0.373580</td>\n",
       "      <td>0.172489</td>\n",
       "      <td>0.321661</td>\n",
       "      <td>0.223905</td>\n",
       "      <td>-0.046953</td>\n",
       "      <td>-0.427565</td>\n",
       "      <td>0.516898</td>\n",
       "      <td>...</td>\n",
       "      <td>0.536018</td>\n",
       "      <td>0.214427</td>\n",
       "      <td>0.543068</td>\n",
       "      <td>0.106441</td>\n",
       "      <td>1.000000</td>\n",
       "      <td>0.429079</td>\n",
       "      <td>0.655314</td>\n",
       "      <td>-0.374835</td>\n",
       "      <td>-0.081607</td>\n",
       "      <td>0.249429</td>\n",
       "    </tr>\n",
       "    <tr>\n",
       "      <th>217</th>\n",
       "      <td>0.334087</td>\n",
       "      <td>0.382774</td>\n",
       "      <td>-0.014094</td>\n",
       "      <td>0.326146</td>\n",
       "      <td>0.092255</td>\n",
       "      <td>0.311429</td>\n",
       "      <td>-0.092024</td>\n",
       "      <td>-0.215666</td>\n",
       "      <td>-0.466050</td>\n",
       "      <td>0.281443</td>\n",
       "      <td>...</td>\n",
       "      <td>0.241396</td>\n",
       "      <td>-0.329460</td>\n",
       "      <td>-0.158368</td>\n",
       "      <td>0.220628</td>\n",
       "      <td>0.429079</td>\n",
       "      <td>1.000000</td>\n",
       "      <td>0.389677</td>\n",
       "      <td>-0.092522</td>\n",
       "      <td>0.436287</td>\n",
       "      <td>-0.049961</td>\n",
       "    </tr>\n",
       "    <tr>\n",
       "      <th>226</th>\n",
       "      <td>0.035908</td>\n",
       "      <td>0.726257</td>\n",
       "      <td>0.049454</td>\n",
       "      <td>0.127159</td>\n",
       "      <td>-0.223535</td>\n",
       "      <td>0.303700</td>\n",
       "      <td>0.235797</td>\n",
       "      <td>-0.016937</td>\n",
       "      <td>-0.389581</td>\n",
       "      <td>0.508336</td>\n",
       "      <td>...</td>\n",
       "      <td>0.478759</td>\n",
       "      <td>0.237973</td>\n",
       "      <td>0.512059</td>\n",
       "      <td>0.314826</td>\n",
       "      <td>0.655314</td>\n",
       "      <td>0.389677</td>\n",
       "      <td>1.000000</td>\n",
       "      <td>-0.326469</td>\n",
       "      <td>-0.206571</td>\n",
       "      <td>0.261636</td>\n",
       "    </tr>\n",
       "    <tr>\n",
       "      <th>237</th>\n",
       "      <td>0.005885</td>\n",
       "      <td>-0.250022</td>\n",
       "      <td>-0.345708</td>\n",
       "      <td>0.311110</td>\n",
       "      <td>0.175916</td>\n",
       "      <td>-0.406137</td>\n",
       "      <td>-0.137177</td>\n",
       "      <td>-0.317383</td>\n",
       "      <td>0.669474</td>\n",
       "      <td>-0.166064</td>\n",
       "      <td>...</td>\n",
       "      <td>0.221592</td>\n",
       "      <td>0.010110</td>\n",
       "      <td>-0.360471</td>\n",
       "      <td>0.438624</td>\n",
       "      <td>-0.374835</td>\n",
       "      <td>-0.092522</td>\n",
       "      <td>-0.326469</td>\n",
       "      <td>1.000000</td>\n",
       "      <td>-0.044638</td>\n",
       "      <td>-0.270792</td>\n",
       "    </tr>\n",
       "    <tr>\n",
       "      <th>238</th>\n",
       "      <td>0.245825</td>\n",
       "      <td>-0.259899</td>\n",
       "      <td>-0.436141</td>\n",
       "      <td>-0.216723</td>\n",
       "      <td>-0.231521</td>\n",
       "      <td>-0.209974</td>\n",
       "      <td>-0.404274</td>\n",
       "      <td>-0.115867</td>\n",
       "      <td>-0.179323</td>\n",
       "      <td>0.172456</td>\n",
       "      <td>...</td>\n",
       "      <td>-0.582435</td>\n",
       "      <td>-0.699914</td>\n",
       "      <td>-0.554762</td>\n",
       "      <td>-0.003216</td>\n",
       "      <td>-0.081607</td>\n",
       "      <td>0.436287</td>\n",
       "      <td>-0.206571</td>\n",
       "      <td>-0.044638</td>\n",
       "      <td>1.000000</td>\n",
       "      <td>-0.299184</td>\n",
       "    </tr>\n",
       "    <tr>\n",
       "      <th>261</th>\n",
       "      <td>0.354522</td>\n",
       "      <td>0.225313</td>\n",
       "      <td>0.263819</td>\n",
       "      <td>-0.003996</td>\n",
       "      <td>0.645316</td>\n",
       "      <td>0.251837</td>\n",
       "      <td>-0.254241</td>\n",
       "      <td>0.223455</td>\n",
       "      <td>-0.154009</td>\n",
       "      <td>0.373689</td>\n",
       "      <td>...</td>\n",
       "      <td>0.477049</td>\n",
       "      <td>0.743443</td>\n",
       "      <td>0.160783</td>\n",
       "      <td>0.389786</td>\n",
       "      <td>0.249429</td>\n",
       "      <td>-0.049961</td>\n",
       "      <td>0.261636</td>\n",
       "      <td>-0.270792</td>\n",
       "      <td>-0.299184</td>\n",
       "      <td>1.000000</td>\n",
       "    </tr>\n",
       "  </tbody>\n",
       "</table>\n",
       "<p>22 rows × 22 columns</p>\n",
       "</div>"
      ],
      "text/plain": [
       "STORE_NBR       4         26        40        58        72        81   \\\n",
       "STORE_NBR                                                               \n",
       "4          1.000000  0.145229 -0.239541  0.462517  0.642654 -0.091353   \n",
       "26         0.145229  1.000000  0.024883  0.301079  0.049001  0.703522   \n",
       "40        -0.239541  0.024883  1.000000  0.060504  0.182486  0.565346   \n",
       "58         0.462517  0.301079  0.060504  1.000000  0.311481  0.147287   \n",
       "72         0.642654  0.049001  0.182486  0.311481  1.000000  0.152143   \n",
       "81        -0.091353  0.703522  0.565346  0.147287  0.152143  1.000000   \n",
       "88        -0.319831  0.439615 -0.141734  0.224899 -0.348883  0.197483   \n",
       "95        -0.038154 -0.133565 -0.211049 -0.356401  0.017109 -0.291601   \n",
       "123       -0.056994 -0.299583 -0.431312  0.094355  0.083195 -0.513938   \n",
       "125        0.312848  0.609910 -0.468838  0.113932  0.033888  0.187666   \n",
       "130        0.010957 -0.143166  0.416386 -0.270807  0.414191 -0.093296   \n",
       "165        0.249888  0.167009  0.372374  0.121878  0.002086  0.329747   \n",
       "181        0.446083  0.463871  0.150957  0.579452  0.593012  0.143459   \n",
       "199        0.213738  0.208887  0.324596  0.300950  0.532261  0.128549   \n",
       "201        0.019206  0.524732 -0.086166  0.072914 -0.070383  0.110531   \n",
       "203        0.304076  0.282060 -0.138148  0.057085  0.406311  0.039563   \n",
       "210        0.569730  0.766554 -0.183315  0.373580  0.172489  0.321661   \n",
       "217        0.334087  0.382774 -0.014094  0.326146  0.092255  0.311429   \n",
       "226        0.035908  0.726257  0.049454  0.127159 -0.223535  0.303700   \n",
       "237        0.005885 -0.250022 -0.345708  0.311110  0.175916 -0.406137   \n",
       "238        0.245825 -0.259899 -0.436141 -0.216723 -0.231521 -0.209974   \n",
       "261        0.354522  0.225313  0.263819 -0.003996  0.645316  0.251837   \n",
       "\n",
       "STORE_NBR       88        95        123       125  ...       181       199  \\\n",
       "STORE_NBR                                          ...                       \n",
       "4         -0.319831 -0.038154 -0.056994  0.312848  ...  0.446083  0.213738   \n",
       "26         0.439615 -0.133565 -0.299583  0.609910  ...  0.463871  0.208887   \n",
       "40        -0.141734 -0.211049 -0.431312 -0.468838  ...  0.150957  0.324596   \n",
       "58         0.224899 -0.356401  0.094355  0.113932  ...  0.579452  0.300950   \n",
       "72        -0.348883  0.017109  0.083195  0.033888  ...  0.593012  0.532261   \n",
       "81         0.197483 -0.291601 -0.513938  0.187666  ...  0.143459  0.128549   \n",
       "88         1.000000  0.364865  0.276588  0.360838  ...  0.026537 -0.071859   \n",
       "95         0.364865  1.000000  0.377951  0.343644  ... -0.127888  0.087424   \n",
       "123        0.276588  0.377951  1.000000  0.118875  ... -0.011415  0.085259   \n",
       "125        0.360838  0.343644  0.118875  1.000000  ...  0.152041  0.088827   \n",
       "130       -0.366231  0.335076 -0.082874 -0.218384  ...  0.450007  0.481370   \n",
       "165       -0.457783 -0.503583 -0.862925 -0.289279  ...  0.103769 -0.119110   \n",
       "181        0.026537 -0.127888 -0.011415  0.152041  ...  1.000000  0.652396   \n",
       "199       -0.071859  0.087424  0.085259  0.088827  ...  0.652396  1.000000   \n",
       "201        0.737583  0.477539  0.086478  0.413662  ...  0.370930  0.232501   \n",
       "203       -0.273307 -0.172814  0.207557  0.381610  ...  0.501786  0.168292   \n",
       "210        0.223905 -0.046953 -0.427565  0.516898  ...  0.536018  0.214427   \n",
       "217       -0.092024 -0.215666 -0.466050  0.281443  ...  0.241396 -0.329460   \n",
       "226        0.235797 -0.016937 -0.389581  0.508336  ...  0.478759  0.237973   \n",
       "237       -0.137177 -0.317383  0.669474 -0.166064  ...  0.221592  0.010110   \n",
       "238       -0.404274 -0.115867 -0.179323  0.172456  ... -0.582435 -0.699914   \n",
       "261       -0.254241  0.223455 -0.154009  0.373689  ...  0.477049  0.743443   \n",
       "\n",
       "STORE_NBR       201       203       210       217       226       237  \\\n",
       "STORE_NBR                                                               \n",
       "4          0.019206  0.304076  0.569730  0.334087  0.035908  0.005885   \n",
       "26         0.524732  0.282060  0.766554  0.382774  0.726257 -0.250022   \n",
       "40        -0.086166 -0.138148 -0.183315 -0.014094  0.049454 -0.345708   \n",
       "58         0.072914  0.057085  0.373580  0.326146  0.127159  0.311110   \n",
       "72        -0.070383  0.406311  0.172489  0.092255 -0.223535  0.175916   \n",
       "81         0.110531  0.039563  0.321661  0.311429  0.303700 -0.406137   \n",
       "88         0.737583 -0.273307  0.223905 -0.092024  0.235797 -0.137177   \n",
       "95         0.477539 -0.172814 -0.046953 -0.215666 -0.016937 -0.317383   \n",
       "123        0.086478  0.207557 -0.427565 -0.466050 -0.389581  0.669474   \n",
       "125        0.413662  0.381610  0.516898  0.281443  0.508336 -0.166064   \n",
       "130        0.068873  0.278049 -0.081858 -0.004984  0.199733 -0.091144   \n",
       "165       -0.311931 -0.176479  0.390984  0.591086  0.276446 -0.384525   \n",
       "181        0.370930  0.501786  0.536018  0.241396  0.478759  0.221592   \n",
       "199        0.232501  0.168292  0.214427 -0.329460  0.237973  0.010110   \n",
       "201        1.000000  0.000869  0.543068 -0.158368  0.512059 -0.360471   \n",
       "203        0.000869  1.000000  0.106441  0.220628  0.314826  0.438624   \n",
       "210        0.543068  0.106441  1.000000  0.429079  0.655314 -0.374835   \n",
       "217       -0.158368  0.220628  0.429079  1.000000  0.389677 -0.092522   \n",
       "226        0.512059  0.314826  0.655314  0.389677  1.000000 -0.326469   \n",
       "237       -0.360471  0.438624 -0.374835 -0.092522 -0.326469  1.000000   \n",
       "238       -0.554762 -0.003216 -0.081607  0.436287 -0.206571 -0.044638   \n",
       "261        0.160783  0.389786  0.249429 -0.049961  0.261636 -0.270792   \n",
       "\n",
       "STORE_NBR       238       261  \n",
       "STORE_NBR                      \n",
       "4          0.245825  0.354522  \n",
       "26        -0.259899  0.225313  \n",
       "40        -0.436141  0.263819  \n",
       "58        -0.216723 -0.003996  \n",
       "72        -0.231521  0.645316  \n",
       "81        -0.209974  0.251837  \n",
       "88        -0.404274 -0.254241  \n",
       "95        -0.115867  0.223455  \n",
       "123       -0.179323 -0.154009  \n",
       "125        0.172456  0.373689  \n",
       "130       -0.399274  0.529394  \n",
       "165        0.280339 -0.055367  \n",
       "181       -0.582435  0.477049  \n",
       "199       -0.699914  0.743443  \n",
       "201       -0.554762  0.160783  \n",
       "203       -0.003216  0.389786  \n",
       "210       -0.081607  0.249429  \n",
       "217        0.436287 -0.049961  \n",
       "226       -0.206571  0.261636  \n",
       "237       -0.044638 -0.270792  \n",
       "238        1.000000 -0.299184  \n",
       "261       -0.299184  1.000000  \n",
       "\n",
       "[22 rows x 22 columns]"
      ]
     },
     "execution_count": 25,
     "metadata": {},
     "output_type": "execute_result"
    }
   ],
   "source": [
    "piv3 = Data22.pivot_table(index = \"Month_Year\", columns = \"STORE_NBR\", values = \"values\")\n",
    "piv3.corr(method = \"pearson\")"
   ]
  },
  {
   "cell_type": "code",
   "execution_count": 27,
   "id": "518e636e-8122-41b9-bd8b-e2cdba2ff367",
   "metadata": {},
   "outputs": [
    {
     "data": {
      "image/png": "[encoded data removed]",
      "text/plain": [
       "<Figure size 640x480 with 1 Axes>"
      ]
     },
     "metadata": {},
     "output_type": "display_data"
    }
   ],
   "source": [
    "Known2 = piv3[[88,201]]\n",
    "Known2.plot()\n",
    "plt.show()"
   ]
  },
  {
   "cell_type": "code",
   "execution_count": null,
   "id": "ebc7a125-6280-4054-bd13-8d4e59234aac",
   "metadata": {},
   "outputs": [],
   "source": []
  },
  {
   "cell_type": "code",
   "execution_count": 29,
   "id": "b3bdfa1a-f2f2-4475-abfa-fc7021f000cb",
   "metadata": {},
   "outputs": [],
   "source": [
    "trail_77 = Data[Data['STORE_NBR'] == 77]\n",
    "control_41 = Data[Data['STORE_NBR'] == 41]\n",
    "\n",
    "trail_86 = Data[Data['STORE_NBR'] == 86]\n",
    "control_109 = Data[Data['STORE_NBR'] == 109]\n",
    "\n",
    "trail_88 = Data[Data['STORE_NBR'] == 88]\n",
    "control_201 = Data[Data['STORE_NBR'] == 201]"
   ]
  },
  {
   "cell_type": "code",
   "execution_count": 33,
   "id": "c9f9767c-8801-4ee0-bc01-f0e410ce9c84",
   "metadata": {},
   "outputs": [
    {
     "data": {
      "text/plain": [
       "TOT_SALES    3040.0\n",
       "PROD_QTY      872.0\n",
       "dtype: float64"
      ]
     },
     "execution_count": 33,
     "metadata": {},
     "output_type": "execute_result"
    }
   ],
   "source": [
    "trail_77[['TOT_SALES','PROD_QTY']].sum()"
   ]
  },
  {
   "cell_type": "code",
   "execution_count": 35,
   "id": "ea1d472a-2c27-4c1d-ad5d-cc1709c6b6d5",
   "metadata": {},
   "outputs": [
    {
     "data": {
      "text/plain": [
       "TOT_SALES    2570.2\n",
       "PROD_QTY      723.0\n",
       "dtype: float64"
      ]
     },
     "execution_count": 35,
     "metadata": {},
     "output_type": "execute_result"
    }
   ],
   "source": [
    "control_41[['TOT_SALES','PROD_QTY']].sum()"
   ]
  },
  {
   "cell_type": "code",
   "execution_count": 36,
   "id": "8b78bb7f-e2f5-4322-b7bf-3aed92aa7b6f",
   "metadata": {},
   "outputs": [
    {
     "data": {
      "text/plain": [
       "LYLTY_CARD_NBR\n",
       "77476             5\n",
       "77109             4\n",
       "77205             4\n",
       "77066             4\n",
       "77093             4\n",
       "                 ..\n",
       "77023             1\n",
       "77024             1\n",
       "77025             1\n",
       "77187             1\n",
       "77003             1\n",
       "Name: count, Length: 356, dtype: int64"
      ]
     },
     "execution_count": 36,
     "metadata": {},
     "output_type": "execute_result"
    }
   ],
   "source": [
    "trail_77[['LYLTY_CARD_NBR']].value_counts()"
   ]
  },
  {
   "cell_type": "code",
   "execution_count": 37,
   "id": "68fdd6c4-0f80-4d85-81ea-34c2ff57d819",
   "metadata": {},
   "outputs": [
    {
     "data": {
      "text/plain": [
       "LYLTY_CARD_NBR\n",
       "41497             4\n",
       "41453             4\n",
       "41466             4\n",
       "41367             4\n",
       "41359             4\n",
       "                 ..\n",
       "41471             1\n",
       "41499             1\n",
       "41002             1\n",
       "41001             1\n",
       "41505             1\n",
       "Name: count, Length: 344, dtype: int64"
      ]
     },
     "execution_count": 37,
     "metadata": {},
     "output_type": "execute_result"
    }
   ],
   "source": [
    "control_41[['LYLTY_CARD_NBR']].value_counts()"
   ]
  },
  {
   "cell_type": "code",
   "execution_count": 39,
   "id": "f390c016-589d-4dd5-a36d-8a8e6e59611f",
   "metadata": {},
   "outputs": [
    {
     "data": {
      "text/plain": [
       "LYLTY_CARD_NBR    567\n",
       "dtype: int64"
      ]
     },
     "execution_count": 39,
     "metadata": {},
     "output_type": "execute_result"
    }
   ],
   "source": [
    "control_41[['LYLTY_CARD_NBR']].count()"
   ]
  },
  {
   "cell_type": "code",
   "execution_count": 40,
   "id": "0d4cd958-1fa6-45ad-b3b1-024840cdc5a6",
   "metadata": {},
   "outputs": [
    {
     "data": {
      "text/plain": [
       "LYLTY_CARD_NBR    563\n",
       "dtype: int64"
      ]
     },
     "execution_count": 40,
     "metadata": {},
     "output_type": "execute_result"
    }
   ],
   "source": [
    "trail_77[['LYLTY_CARD_NBR']].count()"
   ]
  },
  {
   "cell_type": "code",
   "execution_count": 41,
   "id": "b2905846-21e1-41ff-bd3f-47b51ce96f59",
   "metadata": {},
   "outputs": [
    {
     "data": {
      "text/plain": [
       "LYLTY_CARD_NBR\n",
       "41497             4\n",
       "41453             4\n",
       "41466             4\n",
       "41367             4\n",
       "41359             4\n",
       "41368             4\n",
       "41418             4\n",
       "41423             4\n",
       "41432             4\n",
       "41429             4\n",
       "41430             4\n",
       "41474             4\n",
       "41247             4\n",
       "41254             4\n",
       "41182             4\n",
       "Name: count, dtype: int64"
      ]
     },
     "execution_count": 41,
     "metadata": {},
     "output_type": "execute_result"
    }
   ],
   "source": [
    "repeat_cust = control_41[['LYLTY_CARD_NBR']].value_counts()\n",
    "repeat_cust.head(15)"
   ]
  },
  {
   "cell_type": "code",
   "execution_count": 42,
   "id": "9201be86-1a37-4c58-88de-bf31e5fa809d",
   "metadata": {},
   "outputs": [
    {
     "data": {
      "text/plain": [
       "LYLTY_CARD_NBR\n",
       "41497             4\n",
       "41453             4\n",
       "41466             4\n",
       "41367             4\n",
       "41359             4\n",
       "41368             4\n",
       "41418             4\n",
       "41423             4\n",
       "41432             4\n",
       "41429             4\n",
       "41430             4\n",
       "41474             4\n",
       "41247             4\n",
       "41254             4\n",
       "41182             4\n",
       "Name: count, dtype: int64"
      ]
     },
     "execution_count": 42,
     "metadata": {},
     "output_type": "execute_result"
    }
   ],
   "source": [
    "repeated_cust = trail_77[['LYLTY_CARD_NBR']].value_counts()\n",
    "repeat_cust.head(15)"
   ]
  },
  {
   "cell_type": "code",
   "execution_count": 43,
   "id": "a29ea5bd-51a1-4c51-9c8d-8325e323cc03",
   "metadata": {},
   "outputs": [],
   "source": [
    "group77 = trail_77.groupby('Month_Year')\n",
    "group41 = control_41.groupby('Month_Year')"
   ]
  },
  {
   "cell_type": "code",
   "execution_count": 45,
   "id": "4777f4c8-d8a7-4eb2-ba3c-df9808e06c91",
   "metadata": {},
   "outputs": [
    {
     "data": {
      "image/png": "[encoded data removed]",
      "text/plain": [
       "<Figure size 640x480 with 1 Axes>"
      ]
     },
     "metadata": {},
     "output_type": "display_data"
    }
   ],
   "source": [
    "group77['TOT_SALES'].sum().plot(label = \" trail_77\")\n",
    "group41['TOT_SALES'].sum().plot(label = \" control_77\")\n",
    "plt.show()\n",
    "                        \n"
   ]
  },
  {
   "cell_type": "code",
   "execution_count": 46,
   "id": "56fbca91-7eb8-48f4-90e7-c6c4291e17d4",
   "metadata": {
    "scrolled": true
   },
   "outputs": [
    {
     "data": {
      "text/plain": [
       "TOT_SALES    10635.35\n",
       "PROD_QTY      3066.00\n",
       "dtype: float64"
      ]
     },
     "execution_count": 46,
     "metadata": {},
     "output_type": "execute_result"
    }
   ],
   "source": [
    "trail_86[['TOT_SALES','PROD_QTY']].sum()"
   ]
  },
  {
   "cell_type": "code",
   "execution_count": 47,
   "id": "c6b43f66-b23e-4e38-b607-144507314235",
   "metadata": {},
   "outputs": [
    {
     "data": {
      "text/plain": [
       "TOT_SALES    10399.1\n",
       "PROD_QTY      2977.0\n",
       "dtype: float64"
      ]
     },
     "execution_count": 47,
     "metadata": {},
     "output_type": "execute_result"
    }
   ],
   "source": [
    "control_109[['TOT_SALES','PROD_QTY']].sum()"
   ]
  },
  {
   "cell_type": "code",
   "execution_count": 59,
   "id": "f8df99f3-5c66-4a1e-95f4-22a3b9202a12",
   "metadata": {},
   "outputs": [
    {
     "data": {
      "text/plain": [
       "LYLTY_CARD_NBR\n",
       "86133             13\n",
       "86112             13\n",
       "86151             12\n",
       "86075             12\n",
       "86008             12\n",
       "                  ..\n",
       "155000             1\n",
       "155003             1\n",
       "155004             1\n",
       "155005             1\n",
       "155510             1\n",
       "Name: count, Length: 273, dtype: int64"
      ]
     },
     "execution_count": 59,
     "metadata": {},
     "output_type": "execute_result"
    }
   ],
   "source": [
    "trail_86[['LYLTY_CARD_NBR']].value_counts()"
   ]
  },
  {
   "cell_type": "code",
   "execution_count": 60,
   "id": "7f10a281-0e00-483c-b498-7ac45b341602",
   "metadata": {},
   "outputs": [
    {
     "data": {
      "text/plain": [
       "LYLTY_CARD_NBR\n",
       "109036            16\n",
       "109080            14\n",
       "109086            13\n",
       "109078            12\n",
       "109212            12\n",
       "                  ..\n",
       "109121             1\n",
       "109017             1\n",
       "109200             1\n",
       "109214             1\n",
       "109222             1\n",
       "Name: count, Length: 261, dtype: int64"
      ]
     },
     "execution_count": 60,
     "metadata": {},
     "output_type": "execute_result"
    }
   ],
   "source": [
    "control_109[['LYLTY_CARD_NBR']].value_counts()"
   ]
  },
  {
   "cell_type": "code",
   "execution_count": 61,
   "id": "19de77f3-1376-4611-b286-0bf40d11fe09",
   "metadata": {},
   "outputs": [
    {
     "data": {
      "text/plain": [
       "LYLTY_CARD_NBR    1538\n",
       "dtype: int64"
      ]
     },
     "execution_count": 61,
     "metadata": {},
     "output_type": "execute_result"
    }
   ],
   "source": [
    "trail_86[['LYLTY_CARD_NBR']].count()"
   ]
  },
  {
   "cell_type": "code",
   "execution_count": 62,
   "id": "16a34b3a-ee88-490f-b4c6-38eb235f8015",
   "metadata": {},
   "outputs": [
    {
     "data": {
      "text/plain": [
       "LYLTY_CARD_NBR    1505\n",
       "dtype: int64"
      ]
     },
     "execution_count": 62,
     "metadata": {},
     "output_type": "execute_result"
    }
   ],
   "source": [
    "control_109[['LYLTY_CARD_NBR']].count()"
   ]
  },
  {
   "cell_type": "code",
   "execution_count": 52,
   "id": "04816fb7-398d-438f-893f-0fd18d18c462",
   "metadata": {},
   "outputs": [
    {
     "data": {
      "text/plain": [
       "LYLTY_CARD_NBR\n",
       "86133             13\n",
       "86112             13\n",
       "86151             12\n",
       "86075             12\n",
       "86008             12\n",
       "86129             11\n",
       "86116             11\n",
       "86223             11\n",
       "86250             11\n",
       "86019             11\n",
       "86027             11\n",
       "86177             10\n",
       "86193             10\n",
       "86230             10\n",
       "86238             10\n",
       "Name: count, dtype: int64"
      ]
     },
     "execution_count": 52,
     "metadata": {},
     "output_type": "execute_result"
    }
   ],
   "source": [
    "repeat_cust = trail_86[['LYLTY_CARD_NBR']].value_counts()\n",
    "repeat_cust.head(15)"
   ]
  },
  {
   "cell_type": "code",
   "execution_count": 53,
   "id": "8e5629fe-02a0-4cd9-abc7-a5816f41e10c",
   "metadata": {},
   "outputs": [
    {
     "data": {
      "text/plain": [
       "LYLTY_CARD_NBR\n",
       "109036            16\n",
       "109080            14\n",
       "109086            13\n",
       "109078            12\n",
       "109212            12\n",
       "109094            12\n",
       "109255            12\n",
       "109067            11\n",
       "109015            11\n",
       "109100            11\n",
       "109207            11\n",
       "109246            10\n",
       "109142            10\n",
       "109133            10\n",
       "109204            10\n",
       "Name: count, dtype: int64"
      ]
     },
     "execution_count": 53,
     "metadata": {},
     "output_type": "execute_result"
    }
   ],
   "source": [
    "repeat_cust = control_109[['LYLTY_CARD_NBR']].value_counts()\n",
    "repeat_cust.head(15)"
   ]
  },
  {
   "cell_type": "code",
   "execution_count": 55,
   "id": "75f6917d-6395-4f92-ba03-86e93d7ffbf5",
   "metadata": {},
   "outputs": [],
   "source": [
    "group86 = trail_86.groupby('Month_Year')\n",
    "group109 = control_109.groupby('Month_Year')"
   ]
  },
  {
   "cell_type": "code",
   "execution_count": 56,
   "id": "7e061db9-63a8-43a8-8794-01207eb39509",
   "metadata": {},
   "outputs": [
    {
     "data": {
      "text/plain": [
       "<Axes: xlabel='Month_Year'>"
      ]
     },
     "execution_count": 56,
     "metadata": {},
     "output_type": "execute_result"
    },
    {
     "data": {
      "image/png": "[encoded data removed]",
      "text/plain": [
       "<Figure size 640x480 with 1 Axes>"
      ]
     },
     "metadata": {},
     "output_type": "display_data"
    }
   ],
   "source": [
    "group86['TOT_SALES'].sum().plot(label = \"trail_86\" )\n",
    "group109['TOT_SALES'].sum().plot(label = \"control_109\" )"
   ]
  },
  {
   "cell_type": "code",
   "execution_count": 57,
   "id": "ea5b4537-bcee-4e7c-a50f-feb0ddd2d5bf",
   "metadata": {},
   "outputs": [
    {
     "data": {
      "text/plain": [
       "TOT_SALES    16333.25\n",
       "PROD_QTY      3718.00\n",
       "dtype: float64"
      ]
     },
     "execution_count": 57,
     "metadata": {},
     "output_type": "execute_result"
    }
   ],
   "source": [
    "trail_88[['TOT_SALES','PROD_QTY']].sum()"
   ]
  },
  {
   "cell_type": "code",
   "execution_count": 58,
   "id": "c36cb158-1f0f-44df-a3a4-72bf0465f249",
   "metadata": {},
   "outputs": [
    {
     "data": {
      "text/plain": [
       "TOT_SALES    14298.7\n",
       "PROD_QTY      3262.0\n",
       "dtype: float64"
      ]
     },
     "execution_count": 58,
     "metadata": {},
     "output_type": "execute_result"
    }
   ],
   "source": [
    "control_201[['TOT_SALES','PROD_QTY']].sum()"
   ]
  },
  {
   "cell_type": "code",
   "execution_count": 64,
   "id": "e98c1ea1-b43f-4478-b10d-2c5be7b1e890",
   "metadata": {},
   "outputs": [
    {
     "data": {
      "text/plain": [
       "LYLTY_CARD_NBR\n",
       "88105             13\n",
       "88247             11\n",
       "88358             11\n",
       "88351             10\n",
       "88348             10\n",
       "                  ..\n",
       "88355              1\n",
       "88372              1\n",
       "2370701            1\n",
       "2370751            1\n",
       "2373711            1\n",
       "Name: count, Length: 388, dtype: int64"
      ]
     },
     "execution_count": 64,
     "metadata": {},
     "output_type": "execute_result"
    }
   ],
   "source": [
    "trail_88[['LYLTY_CARD_NBR']].value_counts()"
   ]
  },
  {
   "cell_type": "code",
   "execution_count": 65,
   "id": "691e62b3-2034-413a-ade6-8ac245a7499b",
   "metadata": {},
   "outputs": [
    {
     "data": {
      "text/plain": [
       "LYLTY_CARD_NBR\n",
       "201294            13\n",
       "201120            11\n",
       "201186            11\n",
       "201206            10\n",
       "201018            10\n",
       "                  ..\n",
       "201057             1\n",
       "201037             1\n",
       "201043             1\n",
       "201356             1\n",
       "201005             1\n",
       "Name: count, Length: 376, dtype: int64"
      ]
     },
     "execution_count": 65,
     "metadata": {},
     "output_type": "execute_result"
    }
   ],
   "source": [
    "control_201[['LYLTY_CARD_NBR']].value_counts()"
   ]
  },
  {
   "cell_type": "code",
   "execution_count": 66,
   "id": "dfe3d375-780a-4f90-be34-9ea80c25eb37",
   "metadata": {},
   "outputs": [
    {
     "data": {
      "text/plain": [
       "LYLTY_CARD_NBR    1873\n",
       "dtype: int64"
      ]
     },
     "execution_count": 66,
     "metadata": {},
     "output_type": "execute_result"
    }
   ],
   "source": [
    "trail_88[['LYLTY_CARD_NBR']].count()"
   ]
  },
  {
   "cell_type": "code",
   "execution_count": 67,
   "id": "bd23ab84-9d77-4f70-b1da-c9fe30537ebf",
   "metadata": {},
   "outputs": [
    {
     "data": {
      "text/plain": [
       "LYLTY_CARD_NBR    1654\n",
       "dtype: int64"
      ]
     },
     "execution_count": 67,
     "metadata": {},
     "output_type": "execute_result"
    }
   ],
   "source": [
    "control_201[['LYLTY_CARD_NBR']].count()"
   ]
  },
  {
   "cell_type": "code",
   "execution_count": 68,
   "id": "02054fa3-a535-4dc9-aa69-46143b81c415",
   "metadata": {},
   "outputs": [
    {
     "data": {
      "text/plain": [
       "LYLTY_CARD_NBR\n",
       "109036            16\n",
       "109080            14\n",
       "109086            13\n",
       "109078            12\n",
       "109212            12\n",
       "109094            12\n",
       "109255            12\n",
       "109067            11\n",
       "109015            11\n",
       "109100            11\n",
       "109207            11\n",
       "109246            10\n",
       "109142            10\n",
       "109133            10\n",
       "109204            10\n",
       "Name: count, dtype: int64"
      ]
     },
     "execution_count": 68,
     "metadata": {},
     "output_type": "execute_result"
    }
   ],
   "source": [
    "repeated_cust = trail_88[['LYLTY_CARD_NBR']].value_counts()\n",
    "repeat_cust.head(15) "
   ]
  },
  {
   "cell_type": "code",
   "execution_count": 69,
   "id": "96d57659-516e-41dd-aa9c-3e92617dd8dc",
   "metadata": {},
   "outputs": [
    {
     "data": {
      "text/plain": [
       "LYLTY_CARD_NBR\n",
       "109036            16\n",
       "109080            14\n",
       "109086            13\n",
       "109078            12\n",
       "109212            12\n",
       "109094            12\n",
       "109255            12\n",
       "109067            11\n",
       "109015            11\n",
       "109100            11\n",
       "109207            11\n",
       "109246            10\n",
       "109142            10\n",
       "109133            10\n",
       "109204            10\n",
       "Name: count, dtype: int64"
      ]
     },
     "execution_count": 69,
     "metadata": {},
     "output_type": "execute_result"
    }
   ],
   "source": [
    "repeated_cust = control_201[['LYLTY_CARD_NBR']].value_counts()\n",
    "repeat_cust.head(15)"
   ]
  },
  {
   "cell_type": "code",
   "execution_count": 71,
   "id": "664a3ad3-2e9b-434d-8b67-09c83eb6bef8",
   "metadata": {},
   "outputs": [],
   "source": [
    "group88 = trail_88.groupby('Month_Year')\n",
    "group201 = control_201.groupby('Month_Year')"
   ]
  },
  {
   "cell_type": "code",
   "execution_count": 73,
   "id": "aa7357b5-414c-48bb-a378-4effc4200e33",
   "metadata": {},
   "outputs": [
    {
     "data": {
      "image/png": "[encoded data removed]",
      "text/plain": [
       "<Figure size 640x480 with 1 Axes>"
      ]
     },
     "metadata": {},
     "output_type": "display_data"
    }
   ],
   "source": [
    "group88['TOT_SALES'].sum().plot(label= \"trail_88\")\n",
    "group201['TOT_SALES'].sum().plot(label= \"control_201\")\n",
    "plt.show()"
   ]
  },
  {
   "cell_type": "code",
   "execution_count": 74,
   "id": "35b9f42e-a506-41e8-a398-b34b84f1fc6d",
   "metadata": {},
   "outputs": [
    {
     "data": {
      "image/png": "[encoded data removed]",
      "text/plain": [
       "<Figure size 640x480 with 1 Axes>"
      ]
     },
     "metadata": {},
     "output_type": "display_data"
    }
   ],
   "source": [
    "group88['PROD_QTY'].sum().plot(label= \"trail_88\")\n",
    "group201['PROD_QTY'].sum().plot(label= \"control_201\")\n",
    "plt.show()"
   ]
  },
  {
   "cell_type": "code",
   "execution_count": 75,
   "id": "fcbe166a-7b2a-4008-b047-1a702f3be720",
   "metadata": {},
   "outputs": [
    {
     "data": {
      "image/png": "[encoded data removed]",
      "text/plain": [
       "<Figure size 640x480 with 1 Axes>"
      ]
     },
     "metadata": {},
     "output_type": "display_data"
    }
   ],
   "source": [
    "group86['PROD_QTY'].sum().plot(label= \"trail_86\")\n",
    "group109['PROD_QTY'].sum().plot(label= \"control_109\")\n",
    "plt.show()"
   ]
  },
  {
   "cell_type": "code",
   "execution_count": 76,
   "id": "29cb1d4b-c80e-4c7a-9d07-0e86ca8548c8",
   "metadata": {},
   "outputs": [
    {
     "data": {
      "image/png": "[encoded data removed]",
      "text/plain": [
       "<Figure size 640x480 with 1 Axes>"
      ]
     },
     "metadata": {},
     "output_type": "display_data"
    }
   ],
   "source": [
    "group77['PROD_QTY'].sum().plot(label= \"trail_77\")\n",
    "group41['PROD_QTY'].sum().plot(label= \"control_41\")\n",
    "plt.show()"
   ]
  },
  {
   "cell_type": "code",
   "execution_count": 78,
   "id": "a2063a29-710f-4ea2-a6d5-1fed7a2a17b1",
   "metadata": {},
   "outputs": [
    {
     "data": {
      "text/plain": [
       "np.float64(1.05)"
      ]
     },
     "execution_count": 78,
     "metadata": {},
     "output_type": "execute_result"
    }
   ],
   "source": [
    "group41['LYLTY_CARD_NBR'].value_counts().mean()"
   ]
  },
  {
   "cell_type": "code",
   "execution_count": 79,
   "id": "20d5527f-d754-4b48-9b0a-0868c8ae0cfc",
   "metadata": {},
   "outputs": [
    {
     "data": {
      "text/plain": [
       "np.float64(1.048417132216015)"
      ]
     },
     "execution_count": 79,
     "metadata": {},
     "output_type": "execute_result"
    }
   ],
   "source": [
    "group77['LYLTY_CARD_NBR'].value_counts().mean()"
   ]
  },
  {
   "cell_type": "code",
   "execution_count": 80,
   "id": "48403fbe-4ff8-4f9d-b824-f96cf4cc5512",
   "metadata": {},
   "outputs": [
    {
     "data": {
      "text/plain": [
       "np.float64(1.2544861337683524)"
      ]
     },
     "execution_count": 80,
     "metadata": {},
     "output_type": "execute_result"
    }
   ],
   "source": [
    "group86['LYLTY_CARD_NBR'].value_counts().mean()"
   ]
  },
  {
   "cell_type": "code",
   "execution_count": 81,
   "id": "2da737c9-2dd1-466b-a6a3-480fc709c5ba",
   "metadata": {},
   "outputs": [
    {
     "data": {
      "text/plain": [
       "np.float64(1.2918454935622317)"
      ]
     },
     "execution_count": 81,
     "metadata": {},
     "output_type": "execute_result"
    }
   ],
   "source": [
    "group109['LYLTY_CARD_NBR'].value_counts().mean()"
   ]
  },
  {
   "cell_type": "code",
   "execution_count": 82,
   "id": "447b69a3-e5ac-4fb1-ba55-b7dbc196952b",
   "metadata": {},
   "outputs": [
    {
     "data": {
      "text/plain": [
       "np.float64(1.2363036303630364)"
      ]
     },
     "execution_count": 82,
     "metadata": {},
     "output_type": "execute_result"
    }
   ],
   "source": [
    "group88['LYLTY_CARD_NBR'].value_counts().mean()"
   ]
  },
  {
   "cell_type": "code",
   "execution_count": 83,
   "id": "09fbd595-f52d-4652-bf06-9345e225b34c",
   "metadata": {},
   "outputs": [
    {
     "data": {
      "text/plain": [
       "np.float64(1.1689045936395759)"
      ]
     },
     "execution_count": 83,
     "metadata": {},
     "output_type": "execute_result"
    }
   ],
   "source": [
    "group201['LYLTY_CARD_NBR'].value_counts().mean()"
   ]
  },
  {
   "cell_type": "code",
   "execution_count": 88,
   "id": "c2bee880-a24d-48a4-a430-2f579ac6c6a7",
   "metadata": {},
   "outputs": [
    {
     "data": {
      "image/png": "[encoded data removed]",
      "text/plain": [
       "<Figure size 640x480 with 1 Axes>"
      ]
     },
     "metadata": {},
     "output_type": "display_data"
    }
   ],
   "source": [
    "group1 = [\"trail_77\",\"control_41\"]\n",
    "group2 = [\"trail_86\",\"control_109\"]\n",
    "group3 = [\"trail_88\",\"control_201\"]\n",
    "\n",
    "values_grp_1 = [1.048417132216015, 1.05] \n",
    "values_grp_2 = [1.2544861337683524, 1.2918454935622317] \n",
    "values_grp_3 = [1.2363036303630364, 1.1689045936395759] \n",
    "plt.bar(group1, values_grp_1, label = group1, color = \"blue\") \n",
    "plt.bar(group2, values_grp_2, label = group3, color = \"darkred\") \n",
    "plt.bar(group3, values_grp_3, label = group1, color = \"purple\") \n",
    "plt.ylabel(\"PROD_QTY\") \n",
    "plt.legend(loc= \"upper right\", bbox_to_anchor= (1.3, 1)) \n",
    "plt.title(\"Average products per customer Trial Period\") \n",
    "plt.show()"
   ]
  },
  {
   "cell_type": "markdown",
   "id": "8df6342d-5f13-4062-9ff8-15bde2b0dbe8",
   "metadata": {},
   "source": [
    "Based on the data, the average number of transactions was slightly higher in one of the three trial stores.\n",
    "\n",
    "This suggests that the new store layout may be positively impacting performance. Indicators such as total sales, number of products sold, repeat customer rate, and average transactions per customer all show that the trial stores are outperforming the control stores.\n",
    "\n",
    "Recommendation:\n",
    "Expand the trial to include additional stores and conduct a follow-up analysis after three months. This will help determine whether the increase in sales is consistent and sustainable over time."
   ]
  },
  {
   "cell_type": "code",
   "execution_count": null,
   "id": "b73e5ce4-1d73-4097-bc31-63602460dda9",
   "metadata": {},
   "outputs": [],
   "source": []
  }
 ],
 "metadata": {
  "kernelspec": {
   "display_name": "Python 3 (ipykernel)",
   "language": "python",
   "name": "python3"
  },
  "language_info": {
   "codemirror_mode": {
    "name": "ipython",
    "version": 3
   },
   "file_extension": ".py",
   "mimetype": "text/x-python",
   "name": "python",
   "nbconvert_exporter": "python",
   "pygments_lexer": "ipython3",
   "version": "3.12.9"
  }
 },
 "nbformat": 4,
 "nbformat_minor": 5
}
